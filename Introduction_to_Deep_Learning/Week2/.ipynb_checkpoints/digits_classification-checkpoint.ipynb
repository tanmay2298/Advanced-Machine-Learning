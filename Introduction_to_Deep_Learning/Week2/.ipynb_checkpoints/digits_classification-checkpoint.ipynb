{
 "cells": [
  {
   "cell_type": "markdown",
   "metadata": {
    "slideshow": {
     "slide_type": "slide"
    }
   },
   "source": [
    "# MNIST digits classification with TensorFlow"
   ]
  },
  {
   "cell_type": "markdown",
   "metadata": {},
   "source": [
    "<img src=\"images/mnist_sample.png\" style=\"width:30%\">"
   ]
  },
  {
   "cell_type": "code",
   "execution_count": 1,
   "metadata": {},
   "outputs": [
    {
     "name": "stdout",
     "output_type": "stream",
     "text": [
      "We're using TF 1.2.1\n"
     ]
    },
    {
     "name": "stderr",
     "output_type": "stream",
     "text": [
      "Using TensorFlow backend.\n"
     ]
    }
   ],
   "source": [
    "import numpy as np\n",
    "from sklearn.metrics import accuracy_score\n",
    "from matplotlib import pyplot as plt\n",
    "%matplotlib inline\n",
    "import tensorflow as tf\n",
    "print(\"We're using TF\", tf.__version__)\n",
    "\n",
    "import sys\n",
    "sys.path.append(\"../..\")\n",
    "import grading\n",
    "\n",
    "import matplotlib_utils\n",
    "from importlib import reload\n",
    "reload(matplotlib_utils)\n",
    "\n",
    "import grading_utils\n",
    "reload(grading_utils)\n",
    "\n",
    "import keras_utils\n",
    "from keras_utils import reset_tf_session"
   ]
  },
  {
   "cell_type": "markdown",
   "metadata": {},
   "source": [
    "# Fill in your Coursera token and email\n",
    "To successfully submit your answers to our grader, please fill in your Coursera submission token and email"
   ]
  },
  {
   "cell_type": "code",
   "execution_count": 2,
   "metadata": {
    "collapsed": true
   },
   "outputs": [],
   "source": [
    "grader = grading.Grader(assignment_key=\"XtD7ho3TEeiHQBLWejjYAA\", \n",
    "                        all_parts=[\"9XaAS\", \"vmogZ\", \"RMv95\", \"i8bgs\", \"rE763\"])"
   ]
  },
  {
   "cell_type": "code",
   "execution_count": 1,
   "metadata": {
    "collapsed": true
   },
   "outputs": [],
   "source": [
    "# token expires every 30 min\n",
    "COURSERA_TOKEN = \"\"\n",
    "COURSERA_EMAIL = \"\""
   ]
  },
  {
   "cell_type": "markdown",
   "metadata": {},
   "source": [
    "# Look at the data\n",
    "\n",
    "In this task we have 50000 28x28 images of digits from 0 to 9.\n",
    "We will train a classifier on this data."
   ]
  },
  {
   "cell_type": "code",
   "execution_count": 4,
   "metadata": {},
   "outputs": [
    {
     "name": "stdout",
     "output_type": "stream",
     "text": [
      "Downloading data from https://s3.amazonaws.com/img-datasets/mnist.npz\n",
      "10338304/11490434 [=========================>....] - ETA: 0s"
     ]
    }
   ],
   "source": [
    "import preprocessed_mnist\n",
    "X_train, y_train, X_val, y_val, X_test, y_test = preprocessed_mnist.load_dataset()"
   ]
  },
  {
   "cell_type": "code",
   "execution_count": 5,
   "metadata": {},
   "outputs": [
    {
     "name": "stdout",
     "output_type": "stream",
     "text": [
      "X_train [shape (50000, 28, 28)] sample patch:\n",
      " [[ 0.          0.29803922  0.96470588  0.98823529  0.43921569]\n",
      " [ 0.          0.33333333  0.98823529  0.90196078  0.09803922]\n",
      " [ 0.          0.33333333  0.98823529  0.8745098   0.        ]\n",
      " [ 0.          0.33333333  0.98823529  0.56862745  0.        ]\n",
      " [ 0.          0.3372549   0.99215686  0.88235294  0.        ]]\n",
      "A closeup of a sample patch:\n"
     ]
    },
    {
     "data": {
      "image/png": "[encoded data removed]",
      "text/plain": [
       "<matplotlib.figure.Figure at 0x7f7625e91c18>"
      ]
     },
     "metadata": {},
     "output_type": "display_data"
    },
    {
     "name": "stdout",
     "output_type": "stream",
     "text": [
      "And the whole sample:\n"
     ]
    },
    {
     "data": {
      "image/png": "[encoded data removed]",
      "text/plain": [
       "<matplotlib.figure.Figure at 0x7f760aa3b8d0>"
      ]
     },
     "metadata": {},
     "output_type": "display_data"
    },
    {
     "name": "stdout",
     "output_type": "stream",
     "text": [
      "y_train [shape (50000,)] 10 samples:\n",
      " [5 0 4 1 9 2 1 3 1 4]\n"
     ]
    }
   ],
   "source": [
    "# X contains rgb values divided by 255\n",
    "print(\"X_train [shape %s] sample patch:\\n\" % (str(X_train.shape)), X_train[1, 15:20, 5:10])\n",
    "print(\"A closeup of a sample patch:\")\n",
    "plt.imshow(X_train[1, 15:20, 5:10], cmap=\"Greys\")\n",
    "plt.show()\n",
    "print(\"And the whole sample:\")\n",
    "plt.imshow(X_train[1], cmap=\"Greys\")\n",
    "plt.show()\n",
    "print(\"y_train [shape %s] 10 samples:\\n\" % (str(y_train.shape)), y_train[:10])"
   ]
  },
  {
   "cell_type": "markdown",
   "metadata": {},
   "source": [
    "# Linear model\n",
    "\n",
    "Your task is to train a linear classifier $\\vec{x} \\rightarrow y$ with SGD using TensorFlow.\n",
    "\n",
    "You will need to calculate a logit (a linear transformation) $z_k$ for each class: \n",
    "$$z_k = \\vec{x} \\cdot \\vec{w_k} + b_k \\quad k = 0..9$$\n",
    "\n",
    "And transform logits $z_k$ to valid probabilities $p_k$ with softmax: \n",
    "$$p_k = \\frac{e^{z_k}}{\\sum_{i=0}^{9}{e^{z_i}}} \\quad k = 0..9$$\n",
    "\n",
    "We will use a cross-entropy loss to train our multi-class classifier:\n",
    "$$\\text{cross-entropy}(y, p) = -\\sum_{k=0}^{9}{\\log(p_k)[y = k]}$$ \n",
    "\n",
    "where \n",
    "$$\n",
    "[x]=\\begin{cases}\n",
    "       1, \\quad \\text{if $x$ is true} \\\\\n",
    "       0, \\quad \\text{otherwise}\n",
    "    \\end{cases}\n",
    "$$\n",
    "\n",
    "Cross-entropy minimization pushes $p_k$ close to 1 when $y = k$, which is what we want.\n",
    "\n",
    "Here's the plan:\n",
    "* Flatten the images (28x28 -> 784) with `X_train.reshape((X_train.shape[0], -1))` to simplify our linear model implementation\n",
    "* Use a matrix placeholder for flattened `X_train`\n",
    "* Convert `y_train` to one-hot encoded vectors that are needed for cross-entropy\n",
    "* Use a shared variable `W` for all weights (a column $\\vec{w_k}$ per class) and `b` for all biases.\n",
    "* Aim for ~0.93 validation accuracy"
   ]
  },
  {
   "cell_type": "code",
   "execution_count": 6,
   "metadata": {},
   "outputs": [
    {
     "name": "stdout",
     "output_type": "stream",
     "text": [
      "(50000, 784)\n",
      "(10000, 784)\n"
     ]
    }
   ],
   "source": [
    "X_train_flat = X_train.reshape((X_train.shape[0], -1))\n",
    "print(X_train_flat.shape)\n",
    "\n",
    "X_val_flat = X_val.reshape((X_val.shape[0], -1))\n",
    "print(X_val_flat.shape)"
   ]
  },
  {
   "cell_type": "code",
   "execution_count": 7,
   "metadata": {},
   "outputs": [
    {
     "name": "stdout",
     "output_type": "stream",
     "text": [
      "(50000, 10)\n",
      "[[ 0.  0.  0.  0.  0.  1.  0.  0.  0.  0.]\n",
      " [ 1.  0.  0.  0.  0.  0.  0.  0.  0.  0.]\n",
      " [ 0.  0.  0.  0.  1.  0.  0.  0.  0.  0.]] [5 0 4]\n"
     ]
    }
   ],
   "source": [
    "import keras\n",
    "\n",
    "y_train_oh = keras.utils.to_categorical(y_train, 10)\n",
    "y_val_oh = keras.utils.to_categorical(y_val, 10)\n",
    "\n",
    "print(y_train_oh.shape)\n",
    "print(y_train_oh[:3], y_train[:3])"
   ]
  },
  {
   "cell_type": "code",
   "execution_count": 16,
   "metadata": {
    "collapsed": true
   },
   "outputs": [],
   "source": [
    "# run this again if you remake your graph\n",
    "s = reset_tf_session()"
   ]
  },
  {
   "cell_type": "code",
   "execution_count": 17,
   "metadata": {
    "collapsed": true
   },
   "outputs": [],
   "source": [
    "# Model parameters: W and b\n",
    "W = tf.get_variable(\"W\", shape = (784, 10), dtype = tf.float32)\n",
    "# W = tf.Variable(initial_value=np.random.randn(X_train_flat.shape[1], 1) * 0.01, name = \"W\", dtype = \"float32\")\n",
    "### YOUR CODE HERE ### tf.get_variable(...) with shape[0] = 784\n",
    "b = tf.get_variable(\"b\", shape = (10, ), dtype = tf.float32)\n",
    "# b = tf.Variable(initial_value = 0, name = \"b\", dtype = \"float32\")\n",
    "### YOUR CODE HERE ### tf.get_variable(...)"
   ]
  },
  {
   "cell_type": "code",
   "execution_count": 18,
   "metadata": {
    "collapsed": true
   },
   "outputs": [],
   "source": [
    "# Placeholders for the input data\n",
    "input_X = tf.placeholder(tf.float32, name = \"input_X\", shape = (None, 784))\n",
    "### YOUR CODE HERE ### tf.placeholder(...) for flat X with shape[0] = None for any batch size\n",
    "input_y = tf.placeholder(tf.float32, name = \"input_y\", shape = (None, 10))\n",
    "### YOUR CODE HERE ### tf.placeholder(...) for one-hot encoded true labels"
   ]
  },
  {
   "cell_type": "code",
   "execution_count": 11,
   "metadata": {
    "collapsed": true
   },
   "outputs": [],
   "source": [
    "# Compute predictions\n",
    "logits = tf.add(tf.matmul(input_X, W), b)\n",
    "### YOUR CODE HERE ### logits for input_X, resulting shape should be [input_X.shape[0], 10]\n",
    "probas = tf.nn.softmax(logits)\n",
    "### YOUR CODE HERE ### apply tf.nn.softmax to logits\n",
    "classes = tf.argmax(probas, 1)\n",
    "### YOUR CODE HERE ### apply tf.argmax to find a class index with highest probability\n",
    "\n",
    "# Loss should be a scalar number: average loss over all the objects with tf.reduce_mean().\n",
    "# Use tf.nn.softmax_cross_entropy_with_logits on top of one-hot encoded input_y and logits.\n",
    "# It is identical to calculating cross-entropy on top of probas, but is more numerically friendly (read the docs).\n",
    "# loss = - tf.reduce_mean(input_y * tf.log(logits) + (1-input_y) * tf.log(1-logits))\n",
    "loss = tf.reduce_mean(tf.nn.softmax_cross_entropy_with_logits(labels = input_y, logits = logits))\n",
    "### YOUR CODE HERE ### cross-entropy loss\n",
    "\n",
    "# Use a default tf.train.AdamOptimizer to get an SGD step\n",
    "step = tf.train.AdamOptimizer(0.01).minimize(loss)\n",
    "### YOUR CODE HERE ### optimizer step that minimizes the loss"
   ]
  },
  {
   "cell_type": "code",
   "execution_count": 20,
   "metadata": {
    "scrolled": false
   },
   "outputs": [
    {
     "data": {
      "text/html": [
       "<img src=\"data:image/jpeg;base64,/9j/4AAQSkZJRgABAQAAAQABAAD/2wBDAAIBAQEBAQIBAQECAgICAgQDAgICAgUEBAMEBgUGBgYFBgYGBwkIBgcJBwYGCAsICQoKCgoKBggLDAsKDAkKCgr/2wBDAQICAgICAgUDAwUKBwYHCgoKCgoKCgoKCgoKCgoKCgoKCgoKCgoKCgoKCgoKCgoKCgoKCgoKCgoKCgoKCgoKCgr/wAARCAEgA2ADASIAAhEBAxEB/8QAHwAAAQUBAQEBAQEAAAAAAAAAAAECAwQFBgcICQoL/8QAtRAAAgEDAwIEAwUFBAQAAAF9AQIDAAQRBRIhMUEGE1FhByJxFDKBkaEII0KxwRVS0fAkM2JyggkKFhcYGRolJicoKSo0NTY3ODk6Q0RFRkdISUpTVFVWV1hZWmNkZWZnaGlqc3R1dnd4eXqDhIWGh4iJipKTlJWWl5iZmqKjpKWmp6ipqrKztLW2t7i5usLDxMXGx8jJytLT1NXW19jZ2uHi4%2BTl5ufo6erx8vP09fb3%2BPn6/8QAHwEAAwEBAQEBAQEBAQAAAAAAAAECAwQFBgcICQoL/8QAtREAAgECBAQDBAcFBAQAAQJ3AAECAxEEBSExBhJBUQdhcRMiMoEIFEKRobHBCSMzUvAVYnLRChYkNOEl8RcYGRomJygpKjU2Nzg5OkNERUZHSElKU1RVVldYWVpjZGVmZ2hpanN0dXZ3eHl6goOEhYaHiImKkpOUlZaXmJmaoqOkpaanqKmqsrO0tba3uLm6wsPExcbHyMnK0tPU1dbX2Nna4uPk5ebn6Onq8vP09fb3%2BPn6/9oADAMBAAIRAxEAPwD9/KKKKACiiigAooooAKKKKACiiigAooooAKKKKACiiigAooooAKKKKACiiigAooooAKKKKACiiigAooooAKKKKACiiigAooooAKKKKACiiigAooooAKKKKACiiigAooooAKKKKACiiigAooooAKKKKACiiigAooooAKKKKACiiigAooooAKKKKACiiigAooooAKKKKACiiigAooooAKKKKACiiigAooooAKKKKACiiigAooooAKKKKACiiigAooooAKKKKACiiigAooooAKKKKACiiigAooooAKKKKACiiigAooooAKKKKACiiigAooooAKKKKACiiigAooooAKKKKACiiigAooooAKKKKACvPfjt%2B1J8FP2b5NGsfil4g1Maj4ilnTQNB8OeF9R1zVNR8lVed4bHTbee5kjiVkMkixlI96biu5c%2BhV4N%2B0P8D/j5/wANJ%2BDv2tv2bLLwfrWueH/B2seFNX8KeOdcutLtLywv7mwuxcQXtraXj288U2noCpt3WVJSCUKK1ABpf/BTL9izWLvxPb2nxXv0h8FWsk/jLUrvwXrEFjoIS0iu9l5dy2iwWsrQzRskMjrJIWKorMrKL2n/APBQ/wDZK1HwBrXxFTx/q9vB4f1ay0vVdE1DwNrNrrkV5ebfscC6PNaLqEr3AYGER27eaAxTcFYjy2b9gH4y%2BMf2a/jn8NfGHinwppHin4o/FS38daHc6U1xeWFpeW0OiywQ3IkihkkiN3pRRwoyYHGDuJVaPi79i/8AaV%2BLmr/Ef45fG34S/CjWvFnjWx8KaPp/gKy%2BI2s2Wm6fY6Hcaldw3qa7b6al5DqDXOqTOksVoPJSKNFZiWcgHsviH9vv9mzwv4a8OeI9XvvG3meK0v5NE8P2vwm8SXGuSRWUscV3NJpMWntf28MLzQq8s0CIpmiy37xM%2Bmaz8RPBHhv4e3XxX8T%2BJbbSvDljo76rf6vqrfZYbSySIzPPMZdvlKsYLNvxtAOcYNfGHin9hH9s/WPgX4X8Nay3hfxV470a58RHRfGV/wDHbxNpGr%2BCLW%2BuUktLO11q1sJLzXIYkjhEy3qw/aTbReYCFGPUfjR/wTotfj1%2Bzb4n%2BHHxD%2BOfjW78d%2BMPhfH4Z17xS3jbWho818tpDE2oJoS3y2FuzzQLK3kRRSEPIBIrSM5AOkg/4KUfsZf8K58V/FbWPite6Jo3giysr7xQ/ifwdq%2Bk3NlZXkxhtb37LeWsVxJaSyK6pcxxtC3luQ%2BEYjj/AI3f8FZP2d/hn8ENU%2BMfgPRfFXiqbQfiD4X8L674Y/4QXXbHU7A6zqVrax3T2cmnNdeV5Fw88DeT5d48aW8MhknjB8r1T/gmJ8ZPHfwq8faR4i8DeG9G8Y%2BI9D0fR7DxDqv7RfjPxut3aWusW%2BoTRyf27AfsEZ8likUSzHe%2BGkxknv8A9qH9gz40/GD4g/F/4g%2BBfEPheOTxfB8LbzwlZ6tfXMSvf%2BE/EdzrUsN40dvJ5ENwGt4VljEzrl2MfyKrgHqFh/wUE/Zb1H4m2XwZh8T%2BJo/Fd5oun6xLoF38N9egudO0%2B9adILu/SSyU6dDut5VeS68pYiFEhQum6j4a/wCCmH7FPi3wZ4s%2BIWkfGC4TR/Bfgi68Zaxe6h4S1W0Fx4et0Z5tWsVntUbVLNVQ4nsxPGxZArEugbB0P9kP4ofEP4mfG74g/G9fD2gxfGj4O%2BHfCF1Y%2BE9duNRl0u4tE11Ltlnns7XzYwNViMT7FZikm6OPA3fN37Y37Kn7UOj/ALDHxS%2BJv7TF34AtIfhD%2BxT8QfBHhePwFqF5cNrzXukWxn1G6W5toBYqE0i3CWcbXAVppCZ22oKAPrPw9/wUl/Yy8TaHrHiPT/i1dQWehppU1/JqnhLVbJmtNSu1s7HUIUuLVGubCWdgovoQ9qoDO0qorMPT9E%2BLvw88R/FLX/gvofiH7T4k8LaXp%2Boa/YR2k22zgvmuBa7pinlF3%2ByzHy1cyKoRmVVkjLfJOofsz%2BIPFegeKfjb/wAFIvF/wz8J%2BBbf9nu5%2BHUlx4f8QTLay6beyQyXmq3k17BbpYOTBbCG2QzCAmT/AEiQsuOw/wCCPngP4u2f7I9r8f8A9pDUDf8AxJ%2BL15H4n8V6g9nJbtJCLSCy01fKl%2BeH/iX2lpI0TYKSzTZAYtkA%2BqqKKKACiiigAooooAKKKKACiiigAooooAKKKKACiiigAooooAKKKKACiiigAooooAKKKKACiiigAooooAKKKKACiiigAooooAK8R0j/AIKMfse6ld69Z6n8Urzw83hzw5c%2BINQk8a%2BEdV0GObSbd0jnv7WTUrWBb63R5IlaW2MqAyxjOXXPtN7FczWcsNndCCZ4mWKYx7/LYjhtp64POO9fmJq//BHL9uX4v6t4X1z43fHHQ31vw14P1Cz1DxRqHxW8TeJx4h1v7ZpV9a6idLvoobLSbaS50xfPsLIBRHJtWWQKgUA%2B2X/b/wD2YbX4aN8WNY8QeKtK0ttcg0axs9c%2BGWv2GqanfzIZIYLLTbixS9v2kQM6/Z4ZAyo7AkIxHReA/wBqz4H/ABH1%2By8J%2BHPEOqQ6vf8AhSfxJDpGteFdS0y7TTYbv7JLLLDeW8UkDrP8hhkVZe%2BzbzXk3xO%2BDn7bvxib4e/G3XPBvwq0P4h/Cjx1NrHh/wAM2vjjUr/Rdcs7jSbvTLmO4vn0qGaxmKXskkbpa3AjMQU%2BYJGxV%2BJPwG/bg1/4y%2BHf2mvA%2BjfCu08WX3ww1XwX4x0LUvFepSWGkLcX8N1a39lcJpwk1AxCN1kt5YrQSlxiWLHIB3Gk/wDBRv8AZA8R694F8LeFfiNqus6n8SfBuleLfBunaJ4H1m9nvND1F9lrqMiQWjNa2%2B7HmSTiNbcMpm8oMCdj4a/tufs3fFf4jXPwn8M%2BL9Ws9ft9LudThsvE/gzVtEW/sbeRI57uyl1G1gjv4I3liDy2zSIvmISQGUnyj9hT9hL4sfsw6/8ADjWfHniDw1dnwd%2Byl4R%2BGN%2B%2BkXM8rNq2lvM1zNF5kEe61bemxmKu235o0wK8a%2BGn/BKv9sbxP8UfC/ib9qb4w2eqRaf4A8V%2BF/GniaD4v%2BJNavPEUur2KW39p2umX0Men6EcqWNpaKUXKgTOI1WgD6l8J/8ABRf9kfxrosfirQfHeuf2Hcarpen6f4lvfh/rdrpWoy6lex2VlJaX09mlteQS3M0UYuIJHhBlQs4VgT6X4W%2BLvw88a/EDxT8LvC/iH7XrnguSzj8T2iWkwWxkuoPtEEZlZBG7tCVkKIzMiyRlgokTd8w%2BOPAnxF8K/wDBPbxp8CP%2BChnif4VeCPAWg/DSLQLb4meHfFt2GadI0trXUntLqzgTTZlmFvJDBHcXTGcoiOTtDdr/AMEr/h98WPDf7ImlfFX9oqwS3%2BJ3xYvpfHXxEhW3aL7Pf36xmG02N8yfZbGOys9pyQLXBoA%2BjaKKKACiiigAooooAKKKKACiiigAooooAKKKKACiiigAooooAKKKKACiiigAooooAKKKKACiiigAooooAKKKKACiiigAoorxf4K/F344a1%2B1x8WfgL8VL3wpdaP4Y0Lw9rnhCfw/otza3MVpqVzrMP2e8ea6mW4lRdMibzI0gXMrjYcA0Ae0UV8t/DH9uvUPil%2B2Rrfwfi%2BIHhvQvDWi%2BNr7wlZaJqHgHVpr3XdRtLA3Ewj1sTx6dazhxK62BjmuHtrZpsqJQI%2BD%2BDH/AAUO/aB1f9lW68e/FXUvCw%2BLN9F4Lsbf4b3nwm17wrJ4Z1PxDqkGkwvdpqd7JLqdkl5dKv2i2EKOLOdVcsw8sA%2B4K8X%2BPXj/APaL/wCGi/AvwI%2BAvjPwV4fTX/BXiXXtX1Pxf4Lu9aJOnXeh28MMMdvqVj5Yb%2B1JWZmZ8%2BWgAXknQ/ZV%2BL/xI%2BIw8f8Aw%2B%2BMR0SfxV8NPHjeGtZ1Xw1p01nYan5ml6dq1vcQ28088lvm11S3R42mlxJHJhiCMcHrXxx%2BFXi//gql8P8A4XeC/iT4e1nWtC%2BDPj6PxJpOlazBcXekTHVvB5ijuoo3L25dVlIEgUny2xnBpNpblQhKo7R7N/dqzrv%2BEH/4KF/9HQfBn/ww%2Brf/ADUUf8IP/wAFC/8Ao6D4M/8Ahh9W/wDmor2aimSeM/8ACD/8FC/%2BjoPgz/4YfVv/AJqKP%2BEH/wCChf8A0dB8Gf8Aww%2Brf/NRXs1FAHjP/CD/APBQv/o6D4M/%2BGH1b/5qKP8AhB/%2BChf/AEdB8Gf/AAw%2Brf8AzUV7NRQB4z/wg/8AwUL/AOjoPgz/AOGH1b/5qKP%2BEH/4KF/9HQfBn/ww%2Brf/ADUV7NRQB4z/AMIP/wAFC/8Ao6D4M/8Ahh9W/wDmoo/4Qf8A4KF/9HQfBn/ww%2Brf/NRXs1FAHjP/AAg//BQv/o6D4M/%2BGH1b/wCaij/hB/8AgoX/ANHQfBn/AMMPq3/zUV7NRQB4z/wg/wDwUL/6Og%2BDP/hh9W/%2Baij/AIQf/goX/wBHQfBn/wAMPq3/AM1FezUUAeM/8IP/AMFC/wDo6D4M/wDhh9W/%2Baij/hB/%2BChf/R0HwZ/8MPq3/wA1FeneK7aC/udJ028iWW3uNTK3ELjKyKLeZwGHcblU4PpXlP8Aw1//AME4P%2Bjovgj/AOFto/8A8drKriKFC3tZqN%2B7S/No9DA5Tm2ac31LDVK3La/s6dSpa%2B1%2BSE7Xs7XteztezLH/AAg//BQv/o6D4M/%2BGH1b/wCaij/hB/8AgoX/ANHQfBn/AMMPq3/zUVX/AOGv/wDgnB/0dF8Ef/C20f8A%2BO1reBv2gf2Gvih4ptfA3w0%2BN3wn8Ra3fb/sWj6F4l0y7urjYjSPsiikZ32ojOcA4VSTwDWccbgpyUY1Ytv%2B9H/5I7K3DHE%2BHpSq1cBXjGKbbdCukktW23RSSS3baS6tFH/hB/8AgoX/ANHQfBn/AMMPq3/zUUf8IP8A8FC/%2BjoPgz/4YfVv/moqT9q/40/Bz9kf4c6X8SvGnwnu9XtNT8Z6L4dS28N%2BEptRuEk1G%2BitFl8m1glkZU83dtC5kYLEmZJI1bM0n9rP9j/xBq/inQfDfhrX9UvPBIiXxTb6V8G9dunsJ5Es3W0YRae2678u/tZDarunWN2cxhYpGTpPDL//AAg//BQv/o6D4M/%2BGH1b/wCaij/hB/8AgoX/ANHQfBn/AMMPq3/zUVha/wDtlfsbeHNBs/iHqmpaBaeE38E%2BKPE2qalqHh2%2BgvbC10C5s7bURJZGx3xtbyXRSaKZoriORFRYZf3ph6v4YfHT9k/4vQX0nhK5022l07XodGu7DxL4Xn0W7W%2BmhSeCIW%2BoQQSv5sTq8TKhWVSShYA4AKP/AAg//BQv/o6D4M/%2BGH1b/wCaij/hB/8AgoX/ANHQfBn/AMMPq3/zUVB%2B0p8Srr4DeKvh3baH%2Bzv4Z17w/wCMPGtl4d13WLnWVsrjSJLuZIoJIbYWcovMszFlaSAKE4ZiQK6j47%2BJ/hv8Dfhpe%2BO7r4cWGq3vmw2Wg6Da2cKz6xqdxIsNpZRErhXlmdE3t8qAs7kIjMADnv8AhB/%2BChf/AEdB8Gf/AAw%2Brf8AzUUf8IP/AMFC/wDo6D4M/wDhh9W/%2BaivFpf%2BCinw/v8A4UfBbxRpHwd%2BF2jeJvi/8ObTxf8A2T8RPiPBoOlaVDPFalLNdQOnzPd3Uktz5cMaWy%2BYtvO7GLaqv6X8RP2l/h94O/bB%2BH/7J3h/4GadrP8AwlV7cWfifxKkkUUPhy5/sm/1O0t/L8lvtM00WnXBaMPGYUeCRsieMMAb3/CD/wDBQv8A6Og%2BDP8A4YfVv/moo/4Qf/goX/0dB8Gf/DD6t/8ANRXAfsi/tk/Dj9pHwp4z%2BJPjDwh8HfDnh3wW%2Bo/2v/Y3xHj1fU9JjtLq5ieTVbQ6dbrpwMds8wzLL8vsN1UvAv7Y/wDwsL9nDxf%2B0D/wzj8PPAyeEPHNxo%2BoW3xb8eLoFna6csUMsV7eXY02f7HO63NurWrRsI5HZDMxX5gD0z/hB/8AgoX/ANHQfBn/AMMPq3/zUUf8IP8A8FC/%2BjoPgz/4YfVv/mor56%2BLP/BU34f/AA1%2BF3gD4lD9mDwzA3jfwBP4otdJ8U%2BKYtKuNWaOaKJdJ0EGxl/trUZzIHt7f/RvNjlt23L5uE9%2Bh%2BJd3a/tow/sveIf2dvDNroOq%2BAdQ8SeHfF8GsrNc3RsbnS7e4gmsPsarAN%2BprskFxIW8hsou4GgCf8A4Qf/AIKF/wDR0HwZ/wDDD6t/81FH/CD/APBQv/o6D4M/%2BGH1b/5qK8x/Z5/b0%2BEvxVFhrXxY%2BEXg/wAEaH4l%2BE1z8TPCd%2BviGK/m/wCEatpYI7mbU4TaQ/2dcRi7tS0KvcKC0yebuhYVrfBP9of4nftG/BbUfiN8Lv2KfCmna7pvj7UNCuvDPjvxh/ZgtbK3Uul1cTQaZctFcMrQh7VYnEbu6mZgm5gDuP8AhB/%2BChf/AEdB8Gf/AAw%2Brf8AzUUf8IP/AMFC/wDo6D4M/wDhh9W/%2BaivJviH%2B2T4zs/2SPBv7YXwZ/Y88B6/oni/S9GNvoniHx2%2Bl6jJqmp3sNlaWVqtvo95DdJJPcQhJzLGrK%2B/aF5ruvF37TXw70P9s7wv%2ByR4d%2BBlhq0OqW94viXxYjRJFot9HYNfwWCwiFjczvbp5si74zDHPath/PAUA3/%2BEH/4KF/9HQfBn/ww%2Brf/ADUUf8IP/wAFC/8Ao6D4M/8Ahh9W/wDmorw3wb/wUs8Aap8OU8feMv2ZvDtjN4m%2BF1l48%2BGOhaN4lg1C81vT7y9trC1t70NaQrpt011fWMTKrXESmeTErmFxXo/hT4x/F3x3oXinw54Y/ZE%2BHCeP/AfjAaJ4y0TVfiDJb6PbxPptvqMN5baiujvNcI8N5brtaziKyCZSQIwzgHV/8IP/AMFC/wDo6D4M/wDhh9W/%2BaiqHgfxx%2B1Z4O/as8OfBH43fEf4e%2BJtG8TfD3xDrkM3hX4eX2i3VpdabfaJborPcavfJLG6apKSoRGDRIQ2Mg7fwa8f%2BAvj/wDsreHf2kfCXw/i0NPFXguDXtOt5LeIT2fnWwmQCSMYbBIw6na4ww4Iqn44/wCUhfwv/wCyM%2BPP/Tt4QoA9mooooAK%2BUP8AgttH%2Bz7/AMO0Pild/tCXPhSKC18K6jN4SfxZc28cY10WNx9j%2BzeeQGuwS5iC5fcMqMjI%2Br6KAPlP9ub4vfs9/F34M%2BB9cm%2BJ/hDxR8JT8S9Bn%2BKd5a61a3uknQZkuGtpL50dovsL3osC7SHyWjDF8x76%2BTfEzfAX/hVOkf8ADSB07/hUX/CIfFr/AIUP/an/AB6/av8AhJE/sP8AsvP/AC%2B/2dt/snyf3/2ff9l43V%2Br1FAHC%2BBbv422P7OPh671DQdO1T4gx%2BErA6jp%2Buas9hbT6n9nj89ZbiG3uGiHmb/mWGTn%2BGvHf2f/ABl/wUT/AGgPAl/8RLr4s/Bbwi0fjbxNoo8OR/C/V9bFkuma5faYq/bzrll9rJW0DGX7Lb7ixPlJ90fTleM/sH/8kQ1z/ss3xH/9TXW6AD/hB/8AgoX/ANHQfBn/AMMPq3/zUUf8IP8A8FC/%2BjoPgz/4YfVv/mor2aigDxn/AIQf/goX/wBHQfBn/wAMPq3/AM1FH/CD/wDBQv8A6Og%2BDP8A4YfVv/mor2aigDxn/hB/%2BChf/R0HwZ/8MPq3/wA1FH/CD/8ABQv/AKOg%2BDP/AIYfVv8A5qK9mooA8Z/4Qf8A4KF/9HQfBn/ww%2Brf/NRR/wAIP/wUL/6Og%2BDP/hh9W/8Amor2aigDxn/hB/8AgoX/ANHQfBn/AMMPq3/zUUf8IP8A8FC/%2BjoPgz/4YfVv/mor2aigDxn/AIQf/goX/wBHQfBn/wAMPq3/AM1FH/CD/wDBQv8A6Og%2BDP8A4YfVv/mor2aigDxn/hB/%2BChf/R0HwZ/8MPq3/wA1FH/CD/8ABQv/AKOg%2BDP/AIYfVv8A5qK9mooA8Z/4Qf8A4KF/9HQfBn/ww%2Brf/NRR/wAIP/wUL/6Og%2BDP/hh9W/8Amor2aigDxn/hB/8AgoX/ANHQfBn/AMMPq3/zUUf8IP8A8FC/%2BjoPgz/4YfVv/mor2aigDxn/AIQf/goX/wBHQfBn/wAMPq3/AM1FH/CD/wDBQv8A6Og%2BDP8A4YfVv/mor2akd0jUu7BVUZJJwAKAPGv%2BEH/4KF/9HQfBn/ww%2Brf/ADUUf8IP/wAFC/8Ao6D4M/8Ahh9W/wDmoqf4kf8ABQD9iX4R6mdE%2BIX7U3gjT75CRLYjxBDNPGR/fjiLMn/AgK5XTP8AgrR/wTi1bV49Etf2uPCqTSnCvcyywwj6yyRrGv4sK4Z5nltOfJKvBPtzx/8Akj6nDcDcb4zD%2B3oZXiZwavzLD1mrd01S1Xmr/M6P/hB/%2BChf/R0HwZ/8MPq3/wA1FH/CD/8ABQv/AKOg%2BDP/AIYfVv8A5qK9K8C/E74a/FHTP7b%2BGfxC0PxFZEAi70LVobuLB6fNEzD9a25JEiRpZXCqoJZmOAB6muyM4zjzRd13Wv5HzdahXw1Z0q0HGa0aknFp9mmk0/JpHjX/AAg//BQv/o6D4M/%2BGH1b/wCaij/hB/8AgoX/ANHQfBn/AMMPq3/zUVkeKP8AgqT/AME%2BPBnxEb4WeIv2rvCkOsJkSiO5eW1iYHBR7uNGt42B4KtIGHcCvY/AvxI%2BHnxQ0VfEnw08eaL4h058bb/Q9Uiu4Tnph4mZf1rCjjcHiJuFKpGTW6Uk2vkmz1sx4a4kyfDQxGPwVajTmk4yqUqkIyT2alKEU79Ndex5n/wg/wDwUL/6Og%2BDP/hh9W/%2Baij/AIQf/goX/wBHQfBn/wAMPq3/AM1FeysyqpZmAAGSSelfL3jT/gsb%2BwT4C8d6l4L1v4oajPaaRci11PxTpPhy7vtIgue8BureNwzjjO0FRn72QQFisbg8FFPEVFBPa7t/X5Lq0VkfDHEfE9WdPKMHUxEoK8lTg52Tdle3d6JX5pO6jGVnbvP%2BEH/4KF/9HQfBn/ww%2Brf/ADUUf8IP/wAFC/8Ao6D4M/8Ahh9W/wDmoqHwz/wUk/YB8WabHqul/tkfDiKKT7qan4ttbKUfWO4dHX8QKwfi9/wVU/Yk%2BFtpa2/h74w2XxC13UmKaN4V%2BGEqa9qF/L2jRLVmRCe3mOme2aylmmWQp87rwt/ii/wTbfyTfkd9DgPjjE4xYWnleI9o3azoVY2tveUqcIRSV23KcYpJtySTZ0n/AAg//BQv/o6D4M/%2BGH1b/wCaij/hB/8AgoX/ANHQfBn/AMMPq3/zUV5XY/tR/wDBVrxTCfGfhX/gnFoFpoly2dO0XxF8SYLXVxF2eZSmyJm6%2BWRuXoc9Slz/AMFL/jV8FpPtP7bP/BPfx58P9HIy3ijwvqdv4p062Xu9y9mqtbr%2BDH2rD%2B28CleanFd5U5qPrflsl62%2BR63/ABDDimpL2eGlh69T/n3SxeFqVb9YqmqylKS2ag5u%2Bi5uvqv/AAg//BQv/o6D4M/%2BGH1b/wCaij/hB/8AgoX/ANHQfBn/AMMPq3/zUVxHib/gsT/wT10TQbHVvD/x3TxReaqmdL0DwnpF1fajctziPyFjDQvx92Xy6xof%2BCiX7VXitBqXwx/4JUfFS80%2Bbmyn8S6rZaNNInZnhmLNHn0JNVLOsrTtGqpv%2B4nP7%2BRSt82jGl4Y8dzp%2B0r4KWHjdpPESp4ZNp2fL9YqUXKz35YyS7nqH/CD/wDBQv8A6Og%2BDP8A4YfVv/moo/4Qf/goX/0dB8Gf/DD6t/8ANRXmB/4KD/te%2BET9r%2BLf/BKD4nWdofmD%2BDtesPEE233ihKEH/ZzQP%2BCs2m6oPsvg/wD4J/ftMareDiW3T4WGJYH7rK7z4Q/mKn%2B3MsXxTafZwqJ/d7M0/wCIXcby1o4eFSP81PEYScV6yWLSXzt8z0//AIQf/goX/wBHQfBn/wAMPq3/AM1FW/2VviN8afGGsfFDwJ8dNf8AC%2Brap4B%2BIUWh2eq%2BE/DVzpNvdWsug6Pqas9vcXt4yyLJqMqFhLtKxodqnOfJv%2BHmHxksP32vf8Eufj7HCeVbT9At7p9vuiygg%2B1dD/wTr%2BK8nxv1v48/FCX4Z%2BK/B7an8ZoN3hzxvpP2HVLMxeEfDcP76Dc2zd5fmJydyOjcZxXRhsxweLm4UpNu19YyWn/b0Yr8fkePnfBnEfD2FWJx1KMabfKnGrQqe803a1KvVktE9XFLT4r2T%2Bk6KKK7j5cKKKKACiiigAooooAKKKKACiiigAooooAKKKKACiiigArxfRf2PNY0D9ovxh%2B0lp37WXxKGoeM9KstMvdCe08OnT7O0s57qa0igH9keePKN7dKGkmkZlmO8uVQr7RRQB4rcfsN/Duf41/8LgT4g%2BLIbNfFr%2BK4vBENxZro8fiBrBrA6mB9l%2B1GXyWZvKNwbfzSZfJ8z5qzL3/gn34L8W2nia5%2BMHxy%2BIHjjXvEWj6fptt4q1240u2vdDisb37faPZJp9hbW8csV6I7kSyQyM0kMQYsiBK99ooA4X4B/AXQ/gH4e1bTbLxfrniTVvEWvTa14n8UeJXtjf6vfSRxQ%2BdMLWCCBdkEFvAiRRRoscEaheCT478e9W/s7/grB%2BzfZ7sfb/hX8TIMeuJ/C0v/ALTr6cr49/a21b%2Bzv%2BCxP7HVpux9v8I/FGD64s9El/8Aadc2LnyUb%2BcfxlFfqe1kGH%2BtZi6f/Tus/wDwGjVl/wC2n2FRRRXSeKFFFFABRRRQAUUUUAFFFFABRRRQAUUUUAZfiD/kLaH/ANhV/wD0kuK86/4YH/YV/wCjLPhL/wCG50z/AOMV6L4g/wCQtof/AGFX/wDSS4r5f/4fm/8ABLL/AKOi/wDLJ1z/AOQq8/HV8qo8v12UFe9ufl%2BduZPyvYqPFNXhr4MfLDe07Vp0ubl78tSnzWv1va/S%2Bvrf/DA/7Cv/AEZZ8Jf/AA3Omf8AxitbwN%2ByL%2Byh8L/FNr45%2BGn7MPw88O63Y7/sWsaF4KsLS6t96NG%2ByWKJXTcjshwRlWIPBNeHf8Pzf%2BCWX/R0X/lk65/8hV1vwM/4KtfsDftKfFPS/gp8FPj1/bXibWvP/szTP%2BEW1W287yYJJ5P3k9qka4iikb5mGduBkkA8dHGcNSqxjSnR5m1a3s736Wsr37W1KfiRiMcvqzzqdRT93leKqSUr6cvK67Ur7Waae1mehftS/AzVv2hPhXD4I8OeNLfw9q2neK9C8RaLq17pDX9vFeaVqtrqUKzW6zQNNE72ojdVljba5KupANeXeOf2ANf8dfB34g/DzU/i/pEmo%2BP/AInaf401GS88GPNo88lvDpccunXenm9D3llN/Zx3xG4QlJwhZthL%2B0/GL4y%2BGPgfomkeJPGNhfyWGreKtL0A3dlEjJZXGoXUdnbSzbnUrEbiaGIsu4gzKdu3cR4h8bv%2BCr37N/wB%2BH4%2BLfj/AEfWIPCw8Sa/pEmuT6zoVkpOjXbWt7cQQXupQXF9GJY5wiWkU87iBisXzxeZ7hmcBpX/AARyg034J3/wdh%2BOelWcd/4K%2BJWgD%2Bw/h5HYWNn/AMJdqNhelrazju9sMFmbIxJAGPmLIMuhQl/pHwz8CfEXgz45%2BN/jR4d8d2X/ABXF1opvtMvdDeT7Pb2NvJC8cci3CfvJd4YSFSI9uCkmcjy67/b6t/B3xo8ZeD/ijfadpnh3w78Y7jwvY6laaO8%2B7TIPh1Z%2BLJ57mU3S%2BUyvLdYljilDRxxReSGZrhbPwL/bx8Q/GH9oLxF4B8QfAnxb4O8PaZ8N/DfiPS7XxB4fE%2Br3barqOoWyTbNOubtPs5S2hOxlSaAiZpxGo%2BUA6r9sj9nn44/tDWfguz%2BDvxr8KeDl8K%2BMLTxFdnxN8P7nXTfXNnLHLbRp5GqWPkxgiQSA%2BYXDrtMew7934vfsyeEv2iVsLT446hqFzD4e11NW8I3Hg7xFrHhu%2B0y5%2BwyWksjXenX8cspZbi6AwUURz7CrlTI2F%2B3R8Xfjh8CPg9afFX4L3vhRBp/ijSLfxBa%2BKNFubz7VZXeo21m6W5guoPJmH2jcJH8xRt5jbNd18dPi/o3wL%2BGOo/EXVdMuNRmgMVtpGi2RAuNX1GeRYLSxh3cebPPJHEpbCgvuYhQSAD5i0z/gkj/wg/wB8BfB34Y/HO1h1Twx8Fb/AOGHiLxJ4v8ACtxrzavo16LZrl4I7jUQ9lKJbctChlnt4UlMRgkRIgnZXf8AwS0%2BBVl8b/h78cvBHi/xvpN/4L8af8JHq1m3xD16a2124XRJ9KjL239oLawSbXtzI6QETRW7W7qY5nFeW6x/wUU/ao0P9m34feM/FGk%2BE9O8U6/4s8b6P4p1Lw38N9c8VWtvJoOo6haRJa6PYXS38iTLaAvdFzFBtJkVRKgX1Tw5%2B1F%2B0Pr3j39mzXLmHwJbeEfjP4YEniPRrGKbUL2y1M6Fdaqz2epw3YtpbUGGKJSIJPNBZxIoKigCzrX7BWo/G/4h3/jT9r74kaN4qs5PBN34U03R/Avhy%2B8K7bC41Cxv5GubmLU57iaZZdOtfLaKSBIwbjCfv2w74PfsP/ED9l3w14z0/wDZk%2BP/ANn1Hxl8Q5fEVzefE%2B31vxbFBaParD9jC3OtRzGXeiubrzgXACujYUrk/Bj9snx/d/tA%2BO/Bn7SXj/w34N0bQtU8Q/8ACOaBq3wt1nR5r7SdOmGNTi129vDYagiwAyypbQ5RWDEoqnPJeGv%2BChH7Rvizw/8AECY/Dnw7oeqS/E7wp4b%2BFtnrGnXe%2BzsNdSzeC81eLz0eSdILh7p7aM25BC2pYMrTkAueJv8Agld4luPhcnwr8GftI2trZax8LtR8CeN5Ne8CrqH2mwvrye7uJtLjW7hj0uXfdTIistzCscdqrRP9mUn1PWf2a/jndftmeFv2kdF%2BOXhW38K%2BGPBl/wCGY/CN74Au7jUbizvZtOnuHbU/7WRBN52mwlGNoQqPIrLIxDjxTxl/wUj%2BLHhJdE%2BCev3/AIa0r4hyeM/FOj674lsvhzrWv6c1roi2srXVro2n3JvZJJodRsHMRuStsv2p2lkWAeZ33xm/aA/aY0W/%2BCuvfAz4yfCvxHo/xY8TaFpljYjwBf3DalZyWz6hqepWt7HrKpFCNNtrueENBKAwhRnffmgCvov/AAS6%2BF/ifx/4s8ffHy08H6hJ4k0uXTY7b4X%2BD7jwWwhm1G01Ge5urmzv5Lq6vpLjT9PLXKzRDFqAsa%2BZJuxtW/4JdeL/AA58C/F3wK%2BB37UmpaTp/jz4nTeI/Fz%2BN49Z8Tf2lpEq/vNDZ7jWY7hElIjWe5jnSSeMSIw/ebhzFv8A8FSPifpHxV1zwXqWieFfEWsSN47ttC%2BEXhzTbqLxNpN1oK3U1it/M9xIki6nbWbyw4toP9fF5RukDSV0H7Pn7d/xK%2BPWl/EjwN4T%2BOPw08R%2BIPBPg7w94pj8beBfhvq%2Br6WlvqMmoLNpv9lW%2BpPd3d7AdLmBENwrk3MSmBXjeIgHtPiH9mnxB4/PwiX4geONFNt8MvEH9t3%2Bj%2BG/Cr2Gn6veRWNxa2SxwvdTG0gt2uPPWIvNmSCEhlCYPJax/wAE2Pgu/wC1J4V/am8IeKPF%2BjajofivVPEWs6PH4912Ww1W%2BvbVoGcWragLW2GSrMqQFJFURsu2uFg/bV/ag1/9kLwJ%2B0x4dj8D20lx8YrDwp4vtNV8KahG%2BpadceMYPDyz21q96k2j3TRTG5a2uzPJbSDyJYy6vjf%2BJn7deoaP%2B2pP%2BzlpnxA8N%2BFdD8MXPh638S3viDwDq2rNqV3qsp8q0W%2BtJ4bTRd6eTFBPeGUXFxcGNIswkSAGc3/BLPQvEV9478XeM/FHgrTPE3ijRjY6Fqvw0%2BF8Xh%2BLS5/7Qg1L%2B0bmFru5bUb1ryzsJJJJJERls0VY03yM0/xH/wCCf3x9%2BIXwt8T%2BFZf2qfDkGvfEjx/Br/xVvT8Nbo6X4g06DTrewj0OKzj1iO4tLN4rO287/S5HmH2hCQk7KuX48/4KWeL/AAb8WPid4gt/A2lX3wo8BfBXxX4s0m/jEo1LXr/w9Pbx3zRSb/KWzLzS2yZjLtJaSShzE8e6n8S/2%2Bf2hf2arDxX8LPj%2Bngi%2B8f2beCW8P6x4Z8MamulqniS%2Bv7FEksVubm7u5bWXSr9hHBIr3n%2BjxosDykqAfUcej%2BIfD3wVk0LxXqGkXWo2fh2SG6n0DRn06ydlhI/cWzzztBHgABDLJtAxuNcJ44/5SF/C/8A7Iz48/8ATt4QrQ%2BCvxRn%2BMH7Mlz4z1D4jaN4pvvs%2Bq2mpanofhK90GJLiCWaJ7eTTb%2Bee5sp4tgjlimkLiRGJCAhRn%2BOP%2BUhfwv/AOyM%2BPP/AE7eEKAPZqKKKACiiigAooooAK8Z/YP/AOSIa5/2Wb4j/wDqa63Xs1eM/sH/APJENc/7LN8R/wD1NdboA9mooooAKKKKACiiigAooooAKKKKACiuI/aC/aP%2BCX7LHw7k%2BKvx88f23h3Qo7qO2F5cQyytJNIcLHHFErySMcE4RSQqsxwFJGP8IP21f2Sfj3Cj/CH9ovwjrcrru%2Bw2%2BtxJdKPVreQrKv4qK55YvCQr%2BxlUip78ravb0vc9ijw9xBiMreZUsHVlhk3F1Y06jpqStdOag4pq6vdq11dnp9Fcb47/AGh/gR8MfDd94u8ffGDw5pen6bbPPe3F1q8Q2IoycKGLMewVQSSQACSBXyto%2BvftXf8ABUjXU8T%2BAfHHi/4IfAazkZ9H1zRZjY%2BJ/GbjIW4iYgmzs%2B65BMg6ht37rnxWY0qE1Spr2lSW0YtXt1be0Yrq5eiTeh7GRcG4/NaFTHYyawmDpfHXqxnyqTV4wpxSU61WX2adJN2vKcqcFzP7br59/aF/4KXfsx/ALxOPhfY6vqXjzx7K5jtfAHw8sDquqPIP4HWM7ICOMiRlbByFNcTef8Eob3WbdtG8Uf8ABRf9pPVdJuMJqGl3vxFUpdxZ%2BaJ2EAO1hwcdQSK90/Z3/ZN/Z1/ZS8M/8Ir8AfhPpXh2B0C3V1bQl7u7x3nuJC0sx/32OO2KwdTOcT7sacaK6ylJTf8A27GNl85O3kz1IYLw1yZe2r4urmEvs0qdKeFh/wBxatV1Klv7tGnzNbzieCW1x/wVx/aomGp6fdeFP2bfDD5a1ju7CLxL4imU9DJG%2B22iBHO35ZEJwc1Jef8ABNr9pPUYD4jvv%2BCq/wAZj4qtiJNMvLV7aDSUmHebTUGy4T/pmXAr67oo/sbDTV6851Jd3OS%2B5QcIrysvvE/ErOcLLlyrDYbCU1tCnhqM3btOpXp4irUv9rnmr3ekUz44Pxu/4K9fBhD8K/Ff7KPhP4r6rdDyfD3xF8NeIk0ywJz/AKzUrWUBoiF%2BZvL2IxGxMk5qTTv%2BCaHxG/aTuP8AhMf%2BCln7QuqeOJ5hmL4deDb6fSPDOmg8mMLEyTXTDGPNdlbBIO7g19h0Uv7Go1HbEVJ1YLaM3ePzso8//b9/R7lvxKzHCRdTJ8Hh8DXl8dahTcarf9xzlVWHT6rDqnd3fNFe6vJ/hn%2Bwn%2Bxp8HtOGmfDr9mHwTp6gANO3h6Ce4cDpvmlVpH/AOBMa6zV/gJ8C9f0eTw7rvwW8J3unyjEtjd%2BHLWSF/qjIVP5V1lFehDCYSnDkhTil2UY2/I%2BRxPEPEGMxP1jEYytOpe/NKrVcr97uo3f0a8rHzJ45/4I9f8ABPbxnqh8Q6b8B4/C2qgkw6n4K1e60l4Se6JbyLEP%2B%2BK5%2B5/4I/8Aw810p4X%2BIP7Xfx38VeB92%2B48BeIfiJJLY3BHSN2REkMQGfkDA553V9d0VxTyPKJtt0Iq%2B9lZP1UXFP0aaPpaHij4i4emoLNK0lH4eeSqOHnCVWFWcGukoTg09U09Tz3wb%2Byb%2BzF8P/h1/wAKk8JfAHwjaeGmx52jHQIJIbhgMb5Q6t5z46u%2B5j3NeO/EH/gkT%2Bydqmsnx58BbbXPg54ujybbxL8MNXk04r3CPbgmBo89UCLkcZFfUlFb1ssy6vBQnSi0ttErejVmvk0eXl3G/GOU4qpiMLmFaMqjbnepKSqN7%2B0hN1IVL9VUhO60elrfF%2BtfsQf8FEPjS0XwJ/ab/be03U/hPCS2q6j4R0M6V4j8SxcAWN2yAxQQ4HzNGzM4JDBs5X6p%2BE/wZ%2BFnwM%2BHdj8J/hL4F0/QvD2nwmO20uxgAjwfvM5OTI7dWdyWYkliSa6eilhctwuEm6kbyk9OaTcnb%2BVN6peXXdtvUvPuNc94hwtPCV3CnQg%2Bb2dGnChTdR71ZQppRlUe3O78q92Eacbxfm3iP9jT9kDxhqMmseLf2U/htql3Mcy3Wo%2BBtPnkf6s8JJ/OtT4Y/s2/s7/BTULjVvg38B/BvhO6u4xHdXPhrwxa2MkyA5Cs0MalhnseK7Wit44TCRnzxpxUu/LG/wB/Lf8AE8mrn%2Bf18K8NVxlaVJqzg61Vwa7crquNvLlt5BRRRXQeSc/4Y%2BE/ws8E65feJ/Bnw08P6RqWpvv1LUdL0aC3nu29ZZI0DSH3YmugooqYwhBWikl5afkbV8RiMTU5603OVkrybk7JWSvJt2S0SvZLRJLQKKKKoxCvGf2X/wDkt/7R3/ZZrH/1CvC9ezV4z%2By//wAlv/aO/wCyzWP/AKhXhegD2aiiigAooooAKKKKACiiigAooooAKKKKACiiigAooooAKKKKACvNvhV%2B0rpXxS%2BN3j74CyfC/wAV%2BHdW8AQ6dc3F34ghs1ttXs72W%2Bht7uzNvcyuYmfTrnidIXwEOwhga9Jr548IfDn9sHw1%2B2p8SvjnP8MfhrL4U8VeE9C0TQ2T4lagNQxpd1qkqTT2/wDYvlxecmqHKJNJ5bW4AaQSbkAO50L9pyz8X/GPWPhV4G%2BDvjHW9O8OX8mneIfHVimnro9hqCWi3TWZ828S7nkCyQoWgt5YlllEbSKySiPh9b/4KJ%2BEvBfhjxpqnxL/AGd/iT4Y1rwVoGm63P4Q1aHR31DU7C/u5LO2mtXttRlteZ4ZEZJp4nj2guqhlJ4LQf8Agnj498Dftiz/ABy8DaF4ItrGb4n3/jSbxw2sXa%2BJLu3u9Llt5fDckQtDGLBryT7Tv%2B0Mg2qRa%2BcBPV34O/sz/tUXPw/%2BJWqftb/AH4L%2BPPHPxBFo2spd/EK/vNG1e3gnYwaO0NxoI%2Bw6faxSSGJAl0ZJpJpZRvmkcgH0v8NfGHiHx14Ui8ReKPhVr/gy8kldX0HxLcafLdxBWwHZtPurqDDDkbZScHkKeK%2BO/wDgoBqX9j/8FeP2ItR3YzH8QbbP/Xa10ePH/j1e/fsR/s/eL/2dfhxr3hvxXp3h3RYtZ8YXer6N4K8HXk1xo3hSzligjXTrKSWGBmi3xSXBxBCgku5VSNVC18hf8FLPAnhz4bf8FZP2OviHpGqeIZLzxH4v16PUItV8XajfWsTNcaHEotbW5nkgslPmHctukQf5dwO1cedmsuTASl2cP/S6Z9lwBR%2Bs8V0aP80K6%2B/C4r/I/SKiiivRPjQooooAKKKKACiiigAooooAKKKKACiiigDK8Qf8hbQ/%2Bwq//pJcVq1X1PSrHV7cW1/EzKrh0ZJGRkYdGVlIKnryD3NU/wDhD9J/5%2B9V/wDB5d//AB2gDUorL/4Q/Sf%2BfvVf/B5d/wDx2j/hD9J/5%2B9V/wDB5d//AB2gDI%2BOnwd8LftBfB7xH8FfGl1e22m%2BJdJlsp73S5Vju7NmHyXNu7qypPE4WWNyrBXjU4OMV4V8Rv8AglL8EvH3wk0j4NaZ8XPiH4Z03T/hPefDrVbvw9qWn/bNd0S6WP7Qt3Lc2UxWeSRDK89uIXd5H3FlIUfRn/CH6T/z96r/AODy7/8AjtH/AAh%2Bk/8AP3qv/g8u/wD47QB4/rv/AAT1%2BA3inxZqfijxRd67qCax43uPE%2BqaVcXkP2W4nn8HR%2BEZbZgsIf7O2nRh9ocP57M2/ZiIL8Ff2GdN%2BCfjPVPiLYftJfEvX9e1LwrovhpNU8SXWlTPZ6Vpd1cXFvbRJHp8cZ3fap45JZFeZ1fJkEgEg9f/AOEP0n/n71X/AMHl3/8AHaP%2BEP0n/n71X/weXf8A8doA4X9rL9maL9rH4Xr8KNQ%2BNPjDwVYtqtpfXd34Mj0s3F2baZJ4YnOo2N2ioJo4pPkVGJjALFSyto%2BJ/wBnXwB8UPCK%2BAP2hLa2%2BJ%2Bhf2Zp8E%2Bi/EDw5pV7aXF5amUtqTwrZon2qYyKXwBChgj8mKHMm/qf%2BEP0n/n71X/weXf/AMdo/wCEP0n/AJ%2B9V/8AB5d//HaAPn/wf/wS2%2BAPwh8K6H4f/Zt8U%2BI/hZe%2BH9a8SX9hrvgK00i3uDHrl2tzfWjxTWEtq8IMNnHETB5sUVhbKsn7sltbUf8Agn94Wg1L4Oj4b/H74g%2BDNE%2BCGm21j4N8L6ANGns5Y4rOSxLXMl/ptzcytJaStA5WZOMOoWX94fav%2BEP0n/n71X/weXf/AMdo/wCEP0n/AJ%2B9V/8AB5d//HaAPMdY/Yz8J%2BPPii3xE%2BN/xP8AE/xD02BNWj0bwN4vtdJfRNLi1GF7e5iWG2sIZLpDayy2wW8luMRSuOSxY8lpv/BKj9jXwhH45f4QfDay%2BH91441fRNVa/wDAmiabpsuiXukvBLYzWIjtdihJ7dJ2jmWaOR2kDoySMh97/wCEP0n/AJ%2B9V/8AB5d//HaP%2BEP0n/n71X/weXf/AMdoA8ZT9gDwVpvhjRYPCfxs8e6J4u0fWtX1V/iXYTaW%2Bt39xqrbtQ88T2ElmUmKw/IlsixC2gEQjESiun8B/sffCH4ba78M9V8J/wBqQ2fwj8BXHhPwTost4stra2kyWUZuH3oZJLpYbCOJZWfhJZxgmUmu/wD%2BEP0n/n71X/weXf8A8do/4Q/Sf%2BfvVf8AweXf/wAdoA4G3/Zdt7j4xzfGvxf8bPGniHULW11GDwjp%2BqnTUs/Ci3pXznskt7KJpJNiJGsl29y6IGVWAkl35fhz9j6%2B8M2XiPWbL9qT4kS%2BOPFL6fHqnxLuI9CbVvsdl5ptrFIf7LGnpbobi6YILTJe6lcsXbcPUv8AhD9J/wCfvVf/AAeXf/x2j/hD9J/5%2B9V/8Hl3/wDHaAPDfG3/AATu8M%2BLPgRYfAfSP2j/AIk%2BHoIvHUfjHWvEWktos2pa9rKatHq6XN015pk8Khb6GKUR28UMYCCLb5X7utX4g/sI%2BBPiX42i8ZeJfit4zCXsWhf8Jpo9pLp0Vp4wm0i4%2B02U9%2BBZ%2BYkiy4Li0e2SVQsbq0aqg9d/4Q/Sf%2BfvVf8AweXf/wAdo/4Q/Sf%2BfvVf/B5d/wDx2gDxC7/4JZfsFy/FW/8Ai7pX7Mvg3SL/AFbwTrHhfWLbQfCun2MN/aaoUF3LK0ECym4aNXi80SA%2BXcTKQd%2BQ/TP%2BCePgCHwjrWleKPjT4/8AEXiXVrzQri2%2BIWuXmnPrWlnRZTNpS25iso7bbbyvNJiWCTzTcz%2Bf5wlYH2z/AIQ/Sf8An71X/wAHl3/8do/4Q/Sf%2BfvVf/B5d/8Ax2gDifh78DPDv7P/AMFfEPhLRPEer63c6lNqusa5r/iCWF73VNQui8s1xL5EUUKkkhQkUUcaKiqqACsPxx/ykL%2BF/wD2Rnx5/wCnbwhXqJ8GaG%2BFna%2BmTIJiuNWuZEb2ZWkKsPYgivLvHH/KQv4X/wDZGfHn/p28IUAezUUUUAFeBftpSan4l%2BI/wV%2BCl9418QeH/DPjfx5fWniO78MeJLvR7y9%2Bz6FqV5b2K3tnLFcQB5bcTHypEZxabCSjOre%2B1z/xO%2BE3wr%2BNnhGb4f8Axl%2BGnh/xdoNxIklxonifRoL%2B0ldG3IzQzoyMVYAgkcEZFAHyx4Y1L9pD4%2Bf8E5/hV4j8Na54n8T3T61aP4rPhvxUuja74v8ADtvPcQrJaah59sIri4jS0u2dZ7cSp5qrIglFeG6349/a48VfsfJ8d9auPiAfC3g3Sfibaae%2Bg/F9NNvtJutP12aLQ9W1W9N5F/a9rbWVq8UreZeLKw80wXvnCQfoN4o/Zw/Z58ceFbzwJ40%2BA3gzWND1GO0j1DRtU8L2lxaXSWgC2qyQyRlHEIVRGCD5YA24xUfiX9mf9nDxpb%2BGLPxj%2Bz94I1aLwRt/4QyLU/ClnOugbfL2/Yg8ZFrjyYseVtx5Sf3RgAPB/jz4hN%2Bz1ofxH8SfDPU9T8Uz%2BFbK91TwpoxtoLp72SCNpreP7ZPDCjK7MMSSoBtwTmuC/wCCdOrX%2Bvfs3X2t6r4YvtEubz4t/EOa40fU5IHubF28Z60TDK1vLLCXQnaTHI6ZB2swwT7pXjP7B/8AyRDXP%2ByzfEf/ANTXW6APZqKKKACiiigAooooAK5D43fHz4Nfs3%2BBZ/iV8cviLpvhrRbc7TeajNgyP1EcaKC8zkA4RFZjg4HFeU/tnftvXfwN1rSv2fvgB4PTxz8Z/Fy48M%2BEI3PlWUXIbUL91I8i1TBPJUvtIBUBnXn/AIGf8E3oJvH9t%2B0f%2B3J8Qm%2BLvxNi%2BewbUYNuh%2BHckN5Wn2RGxdpA/euu4lQ4VGyT5VfH1qlZ4fBxUpr4pP4IeTtrKVteSOu3M43Pvcr4Uy7B5ZTzjiStKhh6ibpUoJPEYhJ25qal7lKlzJx9vV91tSVKnWcW1kt/wVU1v4qAr%2Bxl%2Bw78UvifCRui16605dA0edfWO7vASxxzgxg8j1rb%2BG3/AAVq/ZX1u4vfCfx4utW%2BD3i/SbOS51Xwn8S7BrCZURSzPBKR5dyp2nYEO9xjCcivqCuR%2BMHwD%2BCf7QGgx%2BGfjb8KtB8VWMMgkt4Nc0yO48l8j5kLAlDxglSMjg8GoeGzmC54YiMpfyyglD5cr5163lfqjpp554bYqSw2IyepRo9KtLFSniF35lWgsPNNfZUKXK9Yzex8t/sw%2BAvFv/BQv45WX/BQH4/eHLiy8BaA8ifAfwLqcf8AyzJw2vXUZ4M0uAYgchVCsM7Y5G9p%2BLv/AATp/Ya%2BOlw198Tf2XfCN5du%2B6W/s9MFlcyHOfnmtTHI/wCLGvZbOzs9Os4tP0%2B1jgt4I1jgghjCpGijCqqjgAAAADpUla0MqwsMO4V4qpKTvJySfNJ9bNOyW0UtopLvfizXj7PcRm8cVlVWeCpUoqnQp0ak4KlSi21HmjKDlJtudWck3UqynN/ZUPnPw9/wSR/4Jw%2BF7%2BDUtL/ZM8NNLbSrJF9ta4ul3Kcjcs0rqwyOjAg96%2BioYYbaFLe3iWOONQqIi4CgcAADoKdRXVh8HhMImqFOML78qSv9yR8/nHEfEPEMoyzXGVcQ435fa1J1OW%2B9ueUrXsr2tfqFFFFdJ4wUUUUAFFFFABRRRQAUUUUAFFFFABRRRQAUUUUAFFFFABRRRQAUUUUAFeM/sv8A/Jb/ANo7/ss1j/6hXhevZq8Z/Zf/AOS3/tHf9lmsf/UK8L0AezUUUUAFFFFABRRRQAUUUUAFFFFABRRRQAUUUUAFFFFABRRRQAUUVzPgn40/Bz4leKPEPgj4c/Fnwz4g1rwjdpa%2BLNI0TXre7utFnffsiu4onZ7Z28uTCyBSfLbA%2BU0AdNRXK3vx2%2BCGm/Fa0%2BA%2Bo/GTwrb%2BONQtTc2HgybxDbJq1zAEdzLHaF/OdAkcjbgpGI2OcKcVfDn7SP7O/jHR/EviHwj8e/Beq6f4Mllj8YX2m%2BKbSeHQniDNIt46SFbUoEcsJCpUKxOMGgDtK/Of/gtC72H7dP7GfiRWwuk%2BOL66kP8Asf2x4ZQj6fPX398PPiT8Ovi74QtPiF8J/H2i%2BJ9A1AObDXPDuqw3tnchXKN5c0LMj4ZWU4JwVI6ivz//AOC6P%2BhfGD4IeKOn9h2GrX27%2B7t8SeDkz/4/Xk57plFZ9lf7pQf6H6B4V%2B94iZbD%2Beo4f%2BB0cRT/APch%2BjVFFFesfn4UUUUAFFFFABRRRQAUUUUAFFFFABRRRQAUUUUAFFFFABRRRQAUUUUAFFFFABRRRQAUUUUAFFFFABRRRQAUUUUAFFFFABXjPjj/AJSF/C//ALIz48/9O3hCvZq8Z8cf8pC/hf8A9kZ8ef8Ap28IUAezUUUUAFFFFABRRRQAV4z%2Bwf8A8kQ1z/ss3xH/APU11uvZq8Z/YP8A%2BSIa5/2Wb4j/APqa63QB7NRRRQAUUVyPx1%2BOvwt/Zt%2BF2q/GP4yeK4NH0HSIPMubmY5aRv4Yo16ySuflVF5YmoqVKdKm5zdktW3okkdGEwmKzDFU8LhabqVKjUYxim5Sk3ZJJXbbbskv%2BG85/bw/a8vf2XPh9puifDbw5H4j%2BJvjjURo/wAN/CZyftt82AZpQCCLeEMHkbKjlVLLu3Dzxfh9/wAFrXtBu/aE%2BBKSvH83/FK6gdjEc4OcHB9vwpP2Dvg98Q/jh8T9S/4KTftPeHZrDxL4nszZfDLwnfLk%2BEvDpJMY2n7tzcAl3bGQrkfKJGRfrivFo0K%2BaXxNWc4QfwRjJxfL/NLS95bpP4Y8q3bP07M80yvgPkyXA4XDYrEU7vE1qtKNde2dr0aLc1FU6CXJKcb%2B1q%2B0lfkjC/hv7F/7E3h39ljTNV8Z%2BKvFE/jP4neL5Rc%2BOviDqif6TqMxwfJiB/1NsmAEiXAwoz0UL7lRRXrYbDUMJRVKkrRX9Nt7tt6tu7b1Z%2Be51nWZ8Q5lUx%2BYVHOrO13okklaMYxSUYQjFKMIRUYwilGKSWpRRRW55YUUUUAFFFFABRRRQAUUUUAFFFFABRRRQAUUUUAFFFFABRRRQAUUUUAFFFFABRRRQAUUUUAFeM/sv/8AJb/2jv8Ass1j/wCoV4Xr2avGf2X/APkt/wC0d/2Wax/9QrwvQB7NRRRQAUUUUAFFFFABRRRQAUUUUAFFFFABRRRQAUUUUAFFFFABXyr8MPil4a8N/wDBRv4z3zfC/wCItnpt54C8Kafbawnwe8Qrp19fWOoeIGvVhuxYeRcFf7QtX3xuwlEpZC4Ryv1VRQB8G%2BFvDP7Xvw%2B/a18ceC/CWteMHuvHXxe1a91GOf4f48Ox%2BHJ9AK2erDXPsu77dbzxWlmsAuiwSHyxabf9JrznR/hF8UfGfwc8Pt4P/Zt8a6LafDL4P/DbQfiD4b1Lwfd2c2tzaL4osNR1HSrOOWNf7VENjZ6kiyW/mwTnUgkUkhkcD9OKKAPCP2HNP1m9vvjD8VW8Ia3oPh/x78XJdb8HaZ4i0O50u8WxXRNIsZppLO6jjntvPvrK%2BuAkqI7CcSFR5lfH3/BczR/i3Y3dz4m8X%2BMvD2paRZfCzXb3wrpuk%2BGJ7O7sFTxb4GEgubmS9mS7YhgQyQ24Xa2Q24bf04r4G/4LcaT/AG1oNzZ7c7P2efG8%2BP8Arl4h8Ey/%2ByV5edx58mxK/wCnc/8A0l/5H3XhhWWH8SslqPZYvD39HVgn%2BEj73gmjuYUuIWykihlPqCMinVz/AMJdW/t74VeGdc3bvtvh6ynz674Eb%2BtdBXpQlzwUu6T%2B9HxeJovD4mdJ7xlKP3Nr9AoooqjEKKKKACiiigAooooAKKKKACiiigAooooAKKKKACiiigAooooAKKKKACiiigAooooAKKKKACiiigAooooAKKKKACvGfHH/ACkL%2BF//AGRnx5/6dvCFezV4z44/5SF/C/8A7Iz48/8ATt4QoA9mooooAK8C/bSk1PxL8R/gr8FL7xr4g8P%2BGfG/jy%2BtPEd34Y8SXej3l79n0LUry3sVvbOWK4gDy24mPlSIzi02ElGdW99rn/id8JvhX8bPCM3w/wDjL8NPD/i7QbiRJLjRPE%2BjQX9pK6NuRmhnRkYqwBBI4IyKAPljwxqX7SHx8/4Jz/CrxH4a1zxP4nun1q0fxWfDfipdG13xf4dt57iFZLTUPPthFcXEaWl2zrPbiVPNVZEEor5t8W/GH9rL4tfA/Q9I8K%2BL9ftr/wAPeEvi3qUOn6h8ZNQ0S4g0zSfEKWOk6tJqtg0h1u6s4FEItp3Npd%2BY0810P3Ukv6TeKP2cP2efHHhW88CeNPgN4M1jQ9RjtI9Q0bVPC9pcWl0loAtqskMkZRxCFURgg%2BWANuMVD40/Zh/Zq%2BJPhzQvB/xF/Z58Da/pHhYKPDOla14Ss7q20gKqootYpY2W3wqqo8sLgKB0AoAl8LfEPULz4A6N8UPD3h3XvGFxd%2BGLPULXT7SCzs9R1QywRuPkuZ4beGVg24o8qKpyM8CvP/8AgnTq1/r37N19req%2BGL7RLm8%2BLfxDmuNH1OSB7mxdvGetEwytbyywl0J2kxyOmQdrMME%2B6ABQFUYA6AV4z%2Bwf/wAkQ1z/ALLN8R//AFNdboA9moopk88FrA9zczJHHGhaSSRgFVQMkknoAO9AJNuyOV%2BOnxu%2BHH7OPwn1v41fFnXk07QdAs2uL2c4LueiRRrkb5HYqiL/ABMwFfL3wF/Z7%2BKn7d3xJ0j9tT9uHw62m%2BHNOkF58I/g5cNvg0yNuY9S1FTxNduuGVGGIwRkA/Kub4Mtrr/gq/8AtIw/FnW7eR/2ePhZrbDwdYToRF4416ElW1B1PElnAcrGDw5znO6VF%2B4K8KnH%2B2a3tZ/wIv3V0m0/jfeKa9xbNrnd1yn6pjKz8Ncu/s/D6ZtWj%2B/qfawtOcdMPTf2K84yviZr36cZLDxcZOuwooor3T8rCiiigAooooAKKKKACiiigAooooAKK5H4w/Hv4Lfs/eGZPGHxs%2BKOh%2BGNOjQsJ9Y1BITJj%2BGNSd0reioCx7CvmLU/%2BCs3i/xfC/xE/Zm/YV%2BJXj/4a6S3m6/46W1Gnia1zhpdNtZl82/253EDYQFOQo%2BYcGKzPA4OXJVn73ZJylbvaKk0l1bSR5mNzjLcBPkrVPe35UnKVu/LFSkkuraSXc%2By6K4T9nf9pf4J/tV/Dq3%2BKPwK8eWmuaXMQk4iO2ezlxkwzxNh4ZB/dYDjBGQQTyXxx/4KJ/sRfs4aw3hv4x/tJeG9L1OMkTaXBO95dQkdpIbZZHj9twGe1ayxuChQVeVWKg9pOSSfo72N55jl9PDLEzrRVN7ScoqLv2bdme0UV8d%2BIv8Agst8BfH1qvhL9iTwb4o%2BMPjfUZPI0TRdL8OXtjaeYQf31zdXcMawwJjLNzjvgZZcSf8A4J2ftqfFOE/tKfFb9t7V9D%2BN9swuPCdl4X%2BXwv4eTknTmtWBN1FJwssrcnauRLtO/hlnFOs7YKDrW3cWlFL/ABPRy7RV/NxR5ks/pV3bLoPEW1k4NKKXbnfuuT6QTbfVxVmfb9FfJvwU/wCCnHh/wt4gl%2BAP/BQuw074Q/EzS0USTard%2BVoXiCHO0XtheOdgjYjlHbKk4yxVgvqv7Q/7bn7Pv7OfwSf45a/41tNasLmUW3h6x8OXUd5ca7ev/q7S0EbESyMcdOFGWJAFdFPNcvq0JVfaJKPxJ6ONt1KL1TXa3pe6v10c6yuthpV1VSUE3JN2lG26lF%2B9FrazW9rXur%2Bu0V8Q%2BAv2Jf2vP2qjc/tQ/tN/tSfEL4VeNNX2t4R8F/DzXRBZeF9OGSltdxspW8mfIaXO3kAE8bU1dW8Rf8FSP2Kdnifxxe6d%2B0h4BtsjVjoOgJpXiqwhHSaO3jJhvAozlFzI5AOVGWHNHNasY%2B0q4ecab2lpJ27ygvfj3taTS3S1S5I53XjD21bCVI0nqpaSaXeUF78e9rSaW6Tul9k0V4F4U/4KifsGeKvhMvxkf9pTw3pOmq5iurHXL1bXUbWcDLQPZv8AvjIOeFVgcEqWHNcj4Q/4LMfsPeK/GFnoN54k8R6BourSmLQPHXijwvcafoWqyjrHFdTAbSAQSZVjUAj5skCuiWcZVHlvXh723vLr99l5uy6bnTLPskhyXxMPetb3lqns9G7Lpd8qvpe%2Bh9V0jukaGSRwqqMszHAA9arLruiNoo8SLrNqdONuLgX4uF8kw7d3mb87duOd2cY5r4x/ak/aLvf29PiHF/wT9/Yp%2BJFvdabqFv5/xj%2BJPh66We30PRixR7GCZCUe6uMNHgE7VyDkeYY9MbjqWDpJ/FKWkYpq8m9kv1eyV23Za65jmVHL6Kl8U5aQgmuacnsl5dXLaMU5N2WvW/DX/gr7%2By38Q/jvc/CC5Gq6Jo11q8uleDfiHq1t5eheJr2AqtxBbXJ%2BUMrsFUk7ZMjBBZFb6rry/Wv2Mv2Z/EX7N1r%2ByXrnwn0258B2OnJZ2WiyRn9wFBxMkg%2BdJ8ln84EOWZmJyxz4R4Z/Zk/4Km/s0acfAH7M/wC1B8PvGng7TpCvhyw%2BMWl3rahZ2vGy1e7svmmCfdViBxgAKAFHFTr5tg/95h7VPW9NaxfWLi2rxX2ZJ3095Xdzz6WJzzL7fXIe2T1vSirxfWLg5LmitozT5nb3o3aZ9j0V8k/23/wW%2B13/AIllv4J/Zv0Fk%2BWbVLvUdZuVk/2oo05H0emP%2ByF/wUo%2BLreX8ef%2BCjo8Naa3EujfCPwhFYyN6lb6cmZD2%2B6fWtf7Tqz0pYao35xUF98pfozb%2B2a1TSjhK0n5xjBffOf6P5n1zRXyBL/wTS%2BOnwdf/hKP2Qf%2BChfxN0nWiN9/Y/Eq%2BTxJpuqyd2ljlVTE79GkQEgAYAxT4v2qP%2BCnfwOQWf7Qf7Atj49srfifxR8G/E6SGUD%2BJdOuh57EjnggZ%2BtL%2B1KlHTFUJw80vaR%2B%2BCbXzj8xf2zVw%2BmNw06fnFe1j99NNr5w%2BZ9eV4z%2By/8A8lv/AGjv%2ByzWP/qFeF68y0//AILR/sVabcx6Z8Zm8dfDK/kbYdP%2BIHgG/tJEfujGKOVFI92x711n7BPxX%2BHPxx8YfH34p/CXxfZ694e1X4yWp07VrBy0U4j8HeGYnwSAcrIjqQRwVIrqw2Y4DGScaFWMmt0nqvVaNfNHZg81yzMJuGGrRnJatJ6r1i7SXzSPoeiiiuw9AKKKKACiiigAooooAKKKKACiiigAooooAKKKKACiiigAoor55%2BAGmar4S/4KBfHPwbH4%2B8V6ppNx4M8Ha/b6X4g8VXmoW2nXl7e%2BJEuPscNxK6WUTJa2y%2BVAqJiFPlyCSAfQ1FfIugad8SPgh%2B3hJf8Axum1nWtG%2BMfxA1DTPhnqWl/GzXJ4tISLw8bprO48Ov5djBGBpmoOLmBpnWWaPcsZbevFaZ8Avin8TJP2ldL/AGXPjX49srO0udG8CeCR4r%2BN/iWe3/tOydLzV72G9uLm6uLNpHvU04yQDerabIFUliWAPu%2Bviz/gq/pP9s3mqWe3Oz9lP4pT4/65XvhOX/2Svaf2GvG9l4i%2BHPiPwI3hjV9I1bwF41vPDviO01T4i6h4sT7akUF0Wt9V1A/aLqExXUOPMWNo38yIxoYyK8b/AG1de8SeP/j54g8Aav8ACDxDolna/sr/ABUtbDXdVudOe01sSzeGFLWy213LOoXAz9oigJ3jaG%2BbHJj4e0wFaPeEv/SZH0HCWI%2BqcWZdX/lxFB/dXov8rn0P%2Bx3q39vfsjfCzXd277b8ONDn3eu%2Bwgb%2Btej14n/wTa1b%2B2v2Afg3ebs7PhxpMGf%2BuVqkX/sle2UYCftMBRl3hH/0mIcW4f6pxXmND%2BXEV191esvysFFFFdZ8%2BFFFFABRRRQAUUUUAFFFFABRRRQAUUUUAFFFFABRRRQAUUUUAFFFFABRRRQAUUUUAFFFFABRRRQAUUUUAFFFFABXjPjj/lIX8L/%2ByM%2BPP/Tt4Qr2avGfHH/KQv4X/wDZGfHn/p28IUAezUUUUAFFFFABRRRQAV4z%2Bwf/AMkQ1z/ss3xH/wDU11uvZq8Z/YP/AOSIa5/2Wb4j/wDqa63QB7NXzt/wVW%2BMGrfB79hrxpJ4U3v4h8VW8fhfw3bwnEk15qLi2Aj/ANtY3lkH/XOvomvkP9rTH7QH/BSH4Efsww/vtL8DRXfxM8VwdQrW%2BbbTGPYEXLPkHs9eXnFScMvlCDtKpaC9Zvlv8k5P5H3Xhvg8NX4uoYrFR5qGEU8VUT2cMNF1uV/46kaNP/t%2Bx9E/s6/B7Sf2fvgN4P8AglogQ2/hbw7aad5sa4E0kUSrJKfd3DOfdjXZ0UjMqKXdgABkkngCvRp04UacYQVkkkvRKy/BHx2NxmJzDGVcXiJc1SpKU5N9ZSk5SfzcmxaK%2BM/it%2B1T8aP25PiHqX7Ln/BPLxD/AGX4f0u4%2By/Eb46ohe10z%2B/Z6UQQLm7I/wCWqnagIKkZWQVNG/aP/aW/4Jt63bfDz9ujUL7x98KJ7lbfw98crGzaS70oM21INbhTc3cAXK53HGS7MQnkvO8Mpt8svZJ2dS3uJ%2Bu9ls525E9L7tfLy4iwcajlyy9inZ1bfu1LtfflWzqJOClo5byX2vWN8Q/iH4H%2BE3gnUviP8SvFNnouhaPatcalql/MEigjHck9ySAAMliQACSBXKeF/wBr39lDxvaNfeDv2mvh/qkSRmSRrDxjZS7FAySwWUlcDrnGMV8uaHZat/wV8%2BNMPjXXbW4t/wBmfwDrJOg6dOjR/wDCxNXhYqbqVTgmwhYEKp4c5ByS6xbYrMYQjGGGaqVJ6RSaa85SabtGO7folq0b43NqcIRp4RxqVamkEmmvOUnFu0IrWT3ekVeUlaxN8Rv2v/8AgqLO9v8As7eItd%2BCnwQVjs%2BIjW7Q%2BIvFhH3TYR5VrS1JAPmkhmGME5eNeo/Zr/bB%2BLHwV%2BKlj%2BxJ/wAFCJre18YXAMfgD4lRR%2BVpfjiBSFUbvuwXwyoaI43MRjlk8z60gggtYEtraFI440CxxxqAqqBgAAdAB2rjPj/%2Bzj8E/wBqT4ezfCz49fD%2Bz8RaJNMkwtrlnjeGVfuyxSxsskLjJG5GU4YjOCQef%2BzcZSft6dZyrdeZvkkv5eVXUEvsuN5J6tyu0cryjH0GsTSxDliPtczapzX8nIrqCX2ZRTlF6yc7tHbUV8k/8Obv2d9D%2BT4VfHL42eBI%2Bgh8I/FC6hUD%2B7%2B%2BEvGOKR/%2BCKv7GGtqZPiXqHxF8Z3PVL3xR8RtQllR%2B0gMUkY3A8jjGR0rb6znD0%2BrRv39qrf%2BkX/A3%2Bt5%2B9FhIX7%2B2Vvwp834H1vXin7T37f/AOzn%2BynrFl4K8aazqWu%2BMNUI/srwH4N01tS1q7BBIYW0ZGxSASGkKBsHBODXlV1/wTU/aM%2BHVtJof7LX/BTP4m%2BF9EuVMNxo/i%2B2t/ES20DcMtpLPse1IHKlSSD37165%2Byn%2Bwp8Av2RLO61DwBot1qvinVsv4i8d%2BJbk3ms6tIxy7S3D8gE87E2rkZIJyTLr5viH7OFJUn1lJxmv%2B3VG3M/8XKl1uQ8TnuKfsqdBUX1nKUZpf4Ixa5n/AI%2BRLqnseU/8Ngf8FIvjP%2B7/AGdv%2BCdTeFbGX/U%2BIvjN4njsdmenmadb5uB6nDH0pG/ZC/4KTfGsZ/aL/wCCiCeEtPm/4%2BfDvwX8MpZFQevl6jcZuF9BlT619d0U/wCyva/7xWnPy5uSP3Q5fxkyv7E9t/veIqVPLm5I/wDgNNR/GTPm34Tf8Emv2Ifhb4iTx3qvwxuPHHidXWSTxP8AEbVJdZu5XXkOROTCGB5DLGCDz2FfSEcccMawwxqiIoCqowAB0AFOortw2DwmDhy0Kain2Vr%2BvV/Ns9HCYDBYCDhhqcYJ72SV/V7t%2BbbZ8z/HL/glP%2BzT8aPidc/FfStZ8X%2BAtS1qMxeMovh14hbSoPE8JO7ZexopD/NyWXazZO4k4I9E%2BAv7EP7Jv7MmlDS/gl8BvD2jNtCy6h9iFxezAf8APS5m3zPzzhnIHavVKKyp5Zl1Ku60KUVN9bK%2Bu9t7X62Su9XdmFLJ8qoYl4iFCKm9b8qvd723Svu%2BVRu9Xd6iKqqAqgADoBS0UV3HpHPfEX4S/Cv4v6N/wjvxY%2BGugeJ7AZxZeINIhvIhnqQsqsAeByPSvJPhr/wS%2B/YP%2BD3xjtPjz8Nf2dtJ0rxHYBzYzQ3Nw9vbSNx5sds8jQxyAZAdUBXJxg8175RXNVwWDr1FUqU4yktU3FNpraztf8TjrZfgMTVjVq0YylF3TcYtprZptX09QooorpOw801j9jX9k/xD8VJPjfr/AOzp4NvvFkoHm65eeH4JZ3cdJCWUgydvMxvwAN2Biuw8e/Db4ffFPwfdfD/4k%2BCtL13Q72Ly7rSdVsUnt5FHTKOCMjseoPIxW3RWMcPh4KSjBLm30Wt%2B%2Bmvzuc8cJhYKSjTilL4rRXvX3vprfzufIlt/wRT/AGPl1VtN1PX/AIh6h4Gjujdaf8K7zx1dHw9ZTk5Z44FIk5IBw0h75yOB9LfCz4N/Cb4H%2BGU8GfB34baJ4Y0pCD9h0PTY7aNmxjcwQDe3qzZJ7mulorDDZbgMHJyoUoxb6pa%2Bl9Wl5JpeRzYPKMry%2BbnhqMYN9Utbdru7S7JNJdEgooortPRCiiigAooooAivrCx1S0ksNTsoriCVdssM8YdHHoQeDXiP7H/hzw94T%2BLP7ROg%2BFdBstMsYfjRaNDZafapDEhfwZ4YdyEQAAszMxwOSxJ5Ne514z%2By/wD8lv8A2jv%2ByzWP/qFeF6XKr3tqLljzc1tT2aiiimMKKKKACiiigAooooAKKKKACiiigAooooAKKKKACiiigArzWL9jL9j6D4g6r8W4P2UfhqnivXi51zxMngXTxqGol3Ejme58nzJtzgMd7HLAE8ivSqKAOO0D9nb9n7wn8TtQ%2BNnhb4F%2BDtN8Z6srrqvi7T/DFpDqd4H27xLdJGJZA21c7mOdoz0FWdW%2BCHwX1/wDqPwp134Q%2BF73wtrF5cXer%2BGrvQLaTT764numu55prdkMcryXLvO7MpLyszkliTXUUUAYvw%2B%2BG/w7%2BEvhK18A/CrwFovhnQrHd9i0Xw9pcNlaW%2B5i7bIYVVEyzFjgDJJPevEv2ldJ/t79rPwtoe3d9t/Z4%2BJMGPXff%2BE1/rX0PXi3xAgiuv8AgoH8MraZdySfBbx6rj1B1bwgDUzjzwce6a%2B9G2GrPDYmFZbxlGX/AIDJP9Dlv%2BCQOq/2z/wTY%2BEt5uzs8PSQZ/65XU8X/slfSVfJ3/BEKeUf8E0vAOj3DZl0u81uzlJ9U1i8IH5EV9Y152SS58mwz/6dw/8ASV/kfZ%2BJ9FYfxJzqmtli8Rb0dWbX4SCiiivTPhgooooAKKKKACiiigAooooAKKKKACiiigAooooAKKKKACiiigAooooAKKKKACiiigAooooAKKKKACiiigAooooAK8Z8cf8AKQv4X/8AZGfHn/p28IV7NXjPjj/lIX8L/wDsjPjz/wBO3hCgD2aiiigArwL9tKTU/EvxH%2BCvwUvvGviDw/4Z8b%2BPL608R3fhjxJd6PeXv2fQtSvLexW9s5YriAPLbiY%2BVIjOLTYSUZ1b32uf%2BJ3wm%2BFfxs8IzfD/AOMvw08P%2BLtBuJEkuNE8T6NBf2kro25GaGdGRirAEEjgjIoA%2BWPDGpftIfHz/gnP8KvEfhrXPE/ie6fWrR/FZ8N%2BKl0bXfF/h23nuIVktNQ8%2B2EVxcRpaXbOs9uJU81VkQSivL9e1X4gfG7/AIJs2V/rfjT4j6D8Q9a%2BJ2vfDn4T6ho3xe1m1vIEufE91pljeXU2nXsceqyWNjD9paeZrgSrYSyB5RKzSfcnij9nD9nnxx4VvPAnjT4DeDNY0PUY7SPUNG1TwvaXFpdJaALarJDJGUcQhVEYIPlgDbjFa8Hww%2BGtrZeHdNtvh5ocdv4QlWXwnbppMITRHW2ltVa0ULi2YW800AMe0iOV0%2B6xBADWru/%2BHnw/ebw54T1zxTPpNgiWuk2V9A%2BoahsAUKJr6eGNpCBkvNMuTklsnnyf/gnTq1/r37N19req%2BGL7RLm8%2BLfxDmuNH1OSB7mxdvGetEwytbyywl0J2kxyOmQdrMME%2B6V4z%2Bwf/wAkQ1z/ALLN8R//AFNdboA9mr5D/wCCd%2Bfjl%2B01%2B0F%2B2ldfvrTV/GSeDPB8x5UaZpEYjeWI/wDPOaZt5/2oz0r6C/ag%2BJv/AApj9m7x98Wln8uTw34O1LUYGzgmWK2keMD3LhQPcivin4OfHPxj%2By7%2Bwr8E/wBij9ljQoNa%2BOXxC8HRapYWMo3Q%2BHoL4tdz6vqBwdiRmdtoYHeyYwwXa3gZniqNLMKPtfhpqU7LVuTtTgkurbcrLv5Jtfb4PHUOGvDPNc1qfFiatDBxtrJx1xNWMVu5T9nQhZdG72Vz9EK%2BQf2%2BPil46/aH%2BKGnf8Eyf2cdelstZ8T2Qvfix4ps%2Bf8AhGPDZIEkeegubkERqp52uMgCQOppv7IP/BUT4e6fBJ4C/wCCoEGvypAv2jTPG/w0tJoZJcDcRcxv5yoTnA5IHc16b%2Bw1%2ByBN%2Byv4J1nVvH3itPFPxH8b6u%2Br/ELxgYyp1C7YtsijDDKW8SsVjTgDLEKu7aKrTx2ZJYZ0ZUoy%2BNtx%2BHrGLjJ6y2b0tHme7R%2BR4ipmObpYR0J0YS/iSk4/B1hFwk/en8LenLHme7R6Z8Hvg/8ADn4CfDbSfhJ8J/C1to%2Bg6JaLb2NlaxgAAdXY9XkY5ZnOWZiWJJJrc1fR9J8QaVcaFr2l219Y3kLQ3dneQLLFPGwwyOjAhlIJBBGCKs0V7UadOFNQikopWt0tta3Y%2BihSp06SpxilFKyVtLbWtta3Q8K8Zf8ABMb/AIJ8%2BPCza9%2Bx/wCA42f776VoUdgxPrm18s5969k8IeEfC/gDwtp/gjwToNrpekaTZx2mm6dYwiOG2hRQqRoo4AAAFaNFZUsJhMPNzpU4xb3ailf7kjChgcFhajnRpRhJ7uMYpv1skFFFFdB1BRRRQAUUUUAFFFFABRRRQAUUUUAFFFFABRRRQAUUUUAFFFFABRRRQAUUUUAFFFFABRRRQAV4z%2By//wAlv/aO/wCyzWP/AKhXhevZq8Z/Zf8A%2BS3/ALR3/ZZrH/1CvC9AHs1FFFABRRRQAUUUUAFFFFABRRRQAUUUUAFFFFABRRRQAUUUUAFeT/B/9oP4geOv2k/iZ%2Bz34%2B%2BE%2Bm6APBGm6Nqmh6vp/iltQbWNP1GfVIYpJoWtYRZyg6Y7GJXnGJl%2BcEEV6xXg/hv9nD9prw3%2B1h49/aNg/aD8CS6Z4y8PaVo1p4cf4W3onsLfTrm/mtWe7GtbZ5CNSuFkIgjDlYiqx7WVwCr8F/22dS%2BMn7W/xA/Zqs9G%2BHVlD4A1yTTruJvikZPE1yi2Npci8GijTwEti12sXmm6PMbHBPy1wnwB/wCCo978aP2PJ/2s38AfD64a9Tw5a%2BHfCHgb4uf25errGtXMFpaaXqrHTbddLmFzd2kb/wCvK75WI/dgP6n4r/Zo%2BK/xF/aG8J/Frx98YfDb%2BH/h/wCIr/W/BmhaL4DktNQS7udMu9N23t/JqEq3MKw3s7GOK3ty7pCWYiMq/E%2BJP%2BCf/wARvirfeKfHXxq%2BPug3HjDVNF8PWPhnVPBnw9fSbHSJdE1f%2B2dPuprWfULuS9dL5YmKmeNPLRo0WMyO5APV/wBmz466/wDGnTvFei%2BPPAlr4a8W%2BBPFsnh3xbo2na02pWkN19jtL%2BF7e6eC3aeKSzv7SUFoYmBlKlcrk4Xjj/lIX8L/APsjPjz/ANO3hCt39mz4FeIPgtp3ivWvHvjy18TeLfHfi2TxF4t1nTtFbTbSa6%2Bx2lhClvavPcNBFHZ2FpEA00rExFi2WwOBv/hH8KPA3/BTbwX498E/DHw9o%2Bu%2BJ/g944l8S61pWiwW93qzx6t4S8trmaNA85Xe%2BC5YjccdTQByX/BGb/Qv2Udd8L9P7D%2BKviax2/3dt8z4/wDH6%2BtK%2BS/%2BCSn%2Bg%2BHvj54XPH9j/tOeLbVF/wBjfbuD9DuNfWleTkX/ACKKK7K33Smv0P0DxV18Rcyn/PUU/wDwZSw9T/3IFFFFesfn4UUUUAFFFFABRRRQAUUUUAFFFFABRRRQAUUUUAFFFFABRRRQAUUUUAFFFFABRRRQAUUUUAFFFFABRRRQAUUUUAFeM%2BOP%2BUhfwv8A%2ByM%2BPP8A07eEK9mrxnxx/wApC/hf/wBkZ8ef%2BnbwhQB7NRRRQAUUUUAFFFFABXjP7B//ACRDXP8Ass3xH/8AU11uvZq8Z/YP/wCSIa5/2Wb4j/8Aqa63QB5L/wAF1fiZH8Of%2BCb3jCxW6MM/ie/07RYHHXElyksoA75ggmGPetj/AIJRfssWPwg/Z90v49ePI5dR%2BJXxM0a01bxVrmoAGaGB4la10%2BIY/cwQw%2BWoiXgMvoqKvkn/AAW48O3X7QnxR/Zx/YnsWeSPxx8RJb/V44m%2BaGztUjjklP0hublh/wBczX3/AGtrbWNrHZWUCRQwxhIoo1wqKBgAAdABxXzWHoLF8S18RJXVKMIR8pNOUn6pSSv0uzqzHHRxlDBZctYYZVKrXT22Jkop/wCKGGoQiuqVR2tzO8lFFFfSnKFFFFABRRRQAUUUUAFFFFABRRRQAUUUUAFFFFABRRRQAUUUUAFFFFABRRRQAUUUUAFFFFABRRRQAUUUUAFFFFABXjP7L/8AyW/9o7/ss1j/AOoV4Xr2avGf2X/%2BS3/tHf8AZZrH/wBQrwvQB7NRRRQAUUUUAFFFFABRRRQAUUUUAFFFFABRRRQAUUUUAFFFFABRRXC/DT9pH4Q/F34leMfhD4G1vUpfEPgKW2TxPY6h4bv7EQieS5jhkhluoI47uJ3s7lRLbtJHmFhuzQB3VFeb%2BGf2r/gx4y%2BLHiD4L%2BGbnxNd6z4WvZLPX7mPwBrI0uzuY7aK5eBtTNoLIyCGaJtizFjvAALcVgW//BQL9lmXwX4p8d3vi7xBptp4N0%2Bzv9fstb%2BHuuWGoxWl3K8NrcxWFzZpdXUMssckaSQRSK7xuoJKkAA9nrxnxx/ykL%2BF/wD2Rnx5/wCnbwhXo/w1%2BJHh74r%2BFIvGfhfTtftbOaV40h8S%2BFNQ0W7BRtpLWuoQQzqM9GZAGHIJHNeceOP%2BUhfwv/7Iz48/9O3hCgDzH/gmn/xLPjX%2B1J4X6eT8eb2%2B2/8AXzbQvn8dtfWlfJf7C/8AxLP2%2BP2t/C/TyvFvhu%2B2/wDXzpbPn8dtfWleTkmmXqPaVRfdUmfoHif73F86v89HCT/8CweFf6BRRRXrH5%2BFFFFABRRRQAUUUUAFFFFABRRRQAUUUUAFFFFABRRRQAUUUUAFFFFABRRRQAUUUUAFFFFABRRRQAUUUUAFFFFABXjPjj/lIX8L/wDsjPjz/wBO3hCvZq8Z8cf8pC/hf/2Rnx5/6dvCFAHs1FFFABXiX7W3jL4nDx38KfgV8MfiZf8AgqT4g%2BLb611bxXpFhZXN7a2lnpF7fGK2W%2BgntxLJLBCC0kMgESzbVDFXT22uO%2BNXwG%2BGP7QXh6x8NfE7StQmj0vVE1LSb7RtfvdKv9Pu1jkiE9teWM0NxbuYppomMcilo5pEbKuykA%2Bej%2B0J%2B0x8QP2DPh38VdA1LWoNY1DxHb6b8SPFHgHwkmp6na6db3Nza3ep6dpzQXKytLNbwt5YguDHDcSMsbmMV5Bp/wDwUA/aP%2BI3hzwR8PrCT4r2s3lfEe98SeJfBHg7Ql8SXth4Z8Qw6RbzS22sRixtmeG4E11EkPn%2BeiwwQIWZE%2B0P%2BGVvg3b/AAwj%2BDegWfiLQvDlvZWFnY6f4X8davpLWEFmgSCO2ls7qKS1G1QH8lk83nzN%2BTnJ8VfsM/sw%2BL/h9oHww1DwBe2ekeGLO6tNIGg%2BKdT0y5W2usG8glurO5inuYrllV50mkdZ3VXlDuAwAOv034t%2BC5Pgtp/xr0/VdT13QLvQLbVLS/0bQLq%2Bur%2B1miSSOaO0tIXmkZ1dW2RxFufujHHm/wDwTp8Q2Hi39m6%2B8U6Vb30VtqPxb%2BIdzbxanpc9lcoj%2BM9aYCW3uESaBwDzHIiupyGUEEV7VomiaP4a0W08OeHtLt7HT9PtY7axsrSIRxW8KKFSNFXhVVQAAOAABXj37D19a6Z8A/EWpX0wjgt/jD8SZZpG6Ki%2BNNbJJ%2BgFGwNpI8L8M/Y/2g/%2BC6%2Bv689m8un/AAL%2BE8GnW86S5jTVtQbzC3sTbXdxGR6w%2B2K%2B36/P7/ggpd6t8XdC%2BOH7Y3iK3eO%2B%2BJfxSlO2Q5KwwIZ0Qf7KG%2BZB/uY7V%2BgNeHw9L2%2BXvFf8/pzn8nJqP/ksYnPhcNOhh4VKnx1Yxqvy9pFTgv8At2k6St0u9tUiiiivcOgKKKKACiiigAooooAKKKKACiiigAooooAKKKKACiiigAooooAKKKKACiiigAooooAKKKKACiiigAooooAKKKKACvGf2X/%2BS3/tHf8AZZrH/wBQrwvXs1eM/sv/APJb/wBo7/ss1j/6hXhegD2aiiigAooooAKKKKACiiigAooooAKKKKACiiigAooooAKKKKACvmnwNffHjQP2%2Bfiv8SNQ/ZB8djwrrfgjw1ouheJE1nw4YL%2BfS7zWnmdIv7W%2B0JHImpwtGZYkYiOUOsZCh/paigD5WtPg98T/AAz%2B21B8Rfgh8E/iL4U0i%2B8W6jqvxX1rWPiFa3Ph/wAX2p0aW1t1sdK/tOc29411HpjiY2tmRHazB5HDBH5PwB8Mvi78efBfxW%2BJP7a/7DnxIHijxtp%2Bm2D%2BDdN8Y%2BH4Ug0S0vZJbPSdMvLLW1YTxNNLdz3U0lqZZZCI2CRwxp9q0UAeNfsR%2BE/jZ4Q%2BHGvWXxitPEdhaXHjC7uPBGheNPEya1rWkaI0UAjtr6%2BSe4FzL563Uik3E7LFNFG0rlDXO3/gvxJ4e/4KbeC/EWrfFzxDrtnq3we8cPYaDqttpyWmihdW8JZS2a2tIp3D7hn7RLOfkG0r82foevnn4yfEvwp4K/4Ka/Arwj4j1BLa58WfCj4hWGi7zgT3Ud94UuTEPcxQzMP%2BueOpFTKcYK8nZf56fmTOcKcbydlp%2BLsvxaRyP7MP/Eo/4Kx/tQ6d0/tfQPBV8B6%2BVp8sOf1r60r5L%2BGJGkf8Fnvifp2cf2x8FdFv8f3vKvGgz%2BuK%2BtK8vJ9KFWParV/9Lv8AqfoXiN7%2Ba4Gt/PgcC/uwyh/7jCiiivWPz8KKKKACiiigAooooAKKKKACiiigAooooAKKKKACiiigAooooAKKKKACiiigAooooAKKKKACiiigAooooAKKKKACvGfHH/KQv4X/APZGfHn/AKdvCFezV4z44/5SF/C//sjPjz/07eEKAPZqKKKACiiigAooooAK%2BRLfx3/wrL/gmF8cfHST%2BXLp/ib4uvatnH78%2BK9fWIfjIyD8a%2Bu6/Nz9uXx2fBH/AARh%2BK1tDN5c%2Bu/HDxppcBz13/EPVZJB%2BMUUg/GvPzav9WyqvV/lhJ/%2BSv8AVo8/Np1aeV15U1eXJJRS3cmuWKXm5Sil5tHuf/BEPwJD4E/4Jn/Dlfs%2By41iO/1S6bH3zNfTlG/79CIfhX1hXln7Dfgw/D39jH4U%2BDHi2S2Hw80eO5XGP3xs4mkP4uWP416nTyqj9XyuhS/lhFf%2BSr/M%2BjzqjTw2b16FN3jTnKmn3VO1JNeTVJNeTCiiiu88wKKKKACiiigAooooAKKKKACiiigAooooAKKKKACiiigAooooAKKKKACiiigAooooAKKKKACiiigAooooAKKKKACvGf2X/wDkt/7R3/ZZrH/1CvC9ezV4z%2By//wAlv/aO/wCyzWP/AKhXhegD2aiiigAooooAKKKKACiiigAooooAKKKKACiiigAooooAKKKKACiivi/9nv4s/sS/C/8A4Kh/tE%2BGPBHxY%2BGeiapqng3wje%2BJrCy8R2ENzc6xHqHiNb%2BS5QSB2uY/OtFl3/MgkgVsBkFAH2hRXwJplh8P/g//AMFFfE0/wU174K/EX4g/E/xfrTahb6T4Yg/4TX4etF4bPly3l%2BtzK39nmfToLcxywWwEmpx4eTOx/DvAjfC//hQkv/DPZi/4Rr/hUfw8/wCGof7Kz5v23/hJ7L%2B3v7X2fN/an9k/279u83/SfL2edx5VAH62V8Lf8FaPgT46%2BNHx0%2BGfiD4O3U0Hj34dfDPxn4y8CvBkmTUbHVfCbeQVH3/NieaMKeCzrngV6x/wTZ/4QH/hHfir/wAKGOlf8Km/4W3cf8Kl/wCEc8v%2ByP7L/sfSftn9n%2BV%2B6%2By/2x/a%2B3yv3e7fs%2BXFWr/Uvivd/wDBTbwXZ%2BNvBfh7T9Ct/g944HhrUdK8Tz3l3fodW8JeY1zbSWUKWhGEwEmuA245K7Ru58VhoYvDToz2krabrs15ppNeaRy43CU8fhJ4eptNNabrs15ppNeaR4J8evjtoet%2BEPgf/wAFqvg9aP8AYdKgi0X4p6fa5d/7AvJfJuYnxy7WV7uKjjLNuPAr7803UbDWNOg1fSr2K5tbqFZra4gcMksbAMrqRwQQQQR1Br4LvbDwH%2Bwp8fPiJ%2By9%2B0Po0tr%2Bz3%2B0DezXXhbXZVH9naHq97E0d/pk8nS1SU4kiYgIgAx0kZPTP%2BCVnxE8UaB4G8U/sPfFfVTceL/gbrI0VLmU4bUtCkBk0u8Uf3WgwgA6LGmeWr57K8XKlj3Sq6SqaSXarBWbS7VYJTj0bT6pn3eXY6fGfhvGVbXH5O1SrLrLC1Zv2c7b8tKu5JPVKliYq9oWX1dRRRX1J8cFFFFABRRRQAUUUUAFFFFABRRRQAUUUUAFFFFABRRRQAUUUUAFFFFABRRRQAUUUUAFFFFABRRRQAUUUUAFFFFABXjPjj/lIX8L/wDsjPjz/wBO3hCvZq8Z8cf8pC/hf/2Rnx5/6dvCFAHs1FFFABXiX7W3jL4nDx38KfgV8MfiZf8AgqT4g%2BLb611bxXpFhZXN7a2lnpF7fGK2W%2BgntxLJLBCC0kMgESzbVDFXT22uO%2BNXwG%2BGP7QXh6x8NfE7StQmj0vVE1LSb7RtfvdKv9Pu1jkiE9teWM0NxbuYppomMcilo5pEbKuykA%2Bej%2B0J%2B0x8QP2DPh38VdA1LWoNY1DxHb6b8SPFHgHwkmp6na6db3Nza3ep6dpzQXKytLNbwt5YguDHDcSMsbmMV5fB%2B1H%2B2R8QvhB4P%2BNEWu/GDT/AfhW5%2BI%2Bm/E3xH4E8MeFk1yT%2BxtdhstLv72x1m3bYTZW2oyXFvYwCYThkEC7ViX7B/wCGVvg3b/DCP4N6BZ%2BItC8OW9lYWdjp/hfx1q%2BktYQWaBII7aWzuopLUbVAfyWTzefM35OcjxT%2Bwz%2BzZ4v%2BHmj/AAk1Lwxr1r4X0XT7ixh8P6L491nTrO%2Bt523Tx38VpdxrqQlbcZPtYmMhklLZ82TcAd9qnxK8J6Z8Ov8Aha0UmoajorabHfwyaDot1qVxcW7qrI0NtaxSTzEqwIWNGbB6V%2BSX/BSbx8nxB/4J1%2BAPh34VS%2Bgbx7%2B1H4%2BvLK31LTLiyuTGnivXkVJba4RJoWDXkRaORFdWGGUEEV%2Bw9lZWenWcWn6faRQW8ESxwQQxhUjRRhVVRwAAAAB0r8bv2hbn/hZ/7a/7NvwGP7yKz/aD8f6tdwesM/xI1QOcf7lg4/OvneK5P%2Bw6lNb1HCH/AIFOK/K515XSjiM%2By%2BjJXUsTQuu8YVVWl/5Lh5H7GaPpVnoWkWuiadHst7O2SCBP7qIoVR%2BQFWaKK%2BhSSVkc0pSnJyk7t6v5hRRRTJCiiigAooooAKKKKACiiigAooooAKKKKACiiigAooooAKKKKACiiigAooooAKKKKACiiigAooooAKKKKACiiigArxn9l/8A5Lf%2B0d/2Wax/9QrwvXs1eM/sv/8AJb/2jv8Ass1j/wCoV4XoA9mooooAKKKKACiiigAooooAKKKKACiiigAooooAKKKKACiiigAooooAKKKKACvGfHH/ACkL%2BF//AGRnx5/6dvCFezV4z44/5SF/C/8A7Iz48/8ATt4QoA9E%2BLHwm%2BHPxy%2BHuqfCr4seErTXNA1m2MGoabex5SReoII5R1IDK6kMrAMpBANfl98ef2S/2/8A/gnR8ZNF/aF/Zo0PU/ib4d8Hxiz03U7eczaq3h0nc%2BiapbqN93DFjMNzGpaILyAFiWH9Y6K8jNMmw%2BaJScnCpH4Zx3VndeTSetntrZq7vrgcVjsozOOY5fU9lXUZU2%2BWM41Kc1adKrTl7lWlNbwlazSnCVOcYzXhH7Nv/BSX9jr9pv4f6d408JfHDw7pd7dwr9t8Na9rMFpqNhPgb4XhlZWba2QHUFGxlWIr27StY0jXLRdQ0TVba8gb7s9rOsiH6FSRXwv%2B2/8A8Ef/AA744%2BKuoftW/s0%2BBvCGpeJ75zP4o%2BHfjPTEfSPEjdXeKVdsljdP1MiMqu%2BCxXLs3mPwL%2BDX/BOT4l%2BLW8F/DzVPHf7JHx0sZBBqXhez8Y3NhcST9VWIXLtBfwNklRHsZ15KgEE%2BbHNc3wtb2GLpwvsnzOCn5xck4KT6wck10utT1q3CHF1fKXm2Txo4%2BjFXqwoupCvQ7%2B0o1I1HyLZVoSqUXpzTpy0P0/or5Ht/gL/wWB8LofDeg/t0/DvXdPgOLXW/Efw68vUJE7CVIG8okdNwJLdTyaefg5/wWR0//SbP9sr4Uai5621/8PJYYx7bom3V6n9p1%2BuFq/dD/wCWa/I%2BJ/tjEdcFW%2B6D/wDcmvyPrWivkltW/wCC2vgU%2Bff%2BEv2fPHdsOfI0q%2B1XTLxvbdNmIUxv%2BCiP7U/wpOf2pf8AgmN8RdItE%2B/rHw51O18UQBf%2BejpAUaJfXOSBS/tjDQ/jQqQ/xU5W%2B%2BPOg/t/CU/49OrT85Up2%2B%2BPtEfXNFfLHh7/AILS/wDBNzW3%2Bxal%2B0KNDv0O250zxD4b1Gzmtn7o%2B%2BDYCPZiPeo/Gv8AwV7/AGZJtTTwV%2BzJpXiT41%2BLLiEPb6B8OdGluUiDfde4uXVYoI/7zZYrjJUVX9t5RycyrwfpJN%2BiSvJvySuU%2BIsh5OZYmD8lJSd%2ByjG8m/JRufVdFfIkP7Z3/BSfwZGuufFf/glne3Wk3A81f%2BEI%2BItjqF9ZIeRFJbbQ00gHUoQuaeP%2BCl/x08ZD7H8F/wDglr8ctRvV%2BWRPGem23h23EndRNO8gIB43Yqf7awC0lzJ9nTqJv0XI7/eR/rFli0lzxfZ0qqb9F7N3%2B8%2BuKK%2BSl/aU/wCCt10POh/4JoeFrUPysNz8ZLJ3QejFI8Ej1HFMb9vv9s74WEt%2B0j/wS78dRWaHLap8MNdtPEoZf732ePY6Y75PbNP%2B2cGtZRnFd3TqJffyv8h/6wYCOs41IrvKjVS%2Bb5Hb7j64or5KX/gsd%2Bz7KALX4DfG6eTHzQxfC66LKe6nnGR0pP8Ah9R%2Bxbox/wCLm2vxD8FAffPir4c6jEE9z5UclH9u5P1rxXrdL73FL8Q/1kyDriYL1bS%2B9xS/E%2BtqK%2BevBn/BV/8A4Jy%2BPNn9h/teeEIN/T%2B2rt9N/P7WkePxr2TwJ8XPhR8UrX7b8Mvid4e8Rw7d3naFrUF4uPXMTsMV10MdgsT/AAasZekov8n%2Bh34bMcuxn8CtCf8AhlF/lJv8DoaK8r/aB/bd/ZO/Zatnk%2BO/x38P6Dcom4aU9359%2B4xwVtYQ8zDpyExyOa838Jf8Fkf%2BCa3jGUWtn%2B1HpdhODtkh1zSr7TzG3oTcQIv64rOrmeW0KvsqleEZdnKKf5mNbOcow1f2NXEU4z7OcU/ub/Ox9OUV846//wAFdP8Agm34az/aP7W/hmTb1/s9bi7/APRET5rovAH/AAUi/YJ%2BJqp/wiP7XHgNpJB8lvqHiCKymb6R3Jjcn2xSjmmWTnyxrwb7c8f/AJIUM6yapU5I4mm3254f/JHtlFfNPxH/AOCu37A3w/1ceF9K%2BNkfjLWnYrBo3w/06fWppiOoV7ZWiyPdxWA3/BZ79k60Uya74I%2BKuloozI9/8NL5Qg7k7VPArOedZRCTi68brzv%2BKuvxMZ8Q5FTm4yxMLre0r2%2BaUl%2BJ9a0V4n8HP%2BCjv7DHx7SNfhn%2B0/4TubiQZTTtR1Eafdn1xb3YjlOO%2BF4rvrz9oD4D6dC9zqHxs8IwRxqWkkm8SWqqqjqSTJwK6qeNwdaHPTqxa7qUWvzO6jmGAxFP2lKtCUe6lFr/ANKOuor5n%2BIX/BX7/gnz4B1f/hG7X492/ijUyTtsPBGm3OsMwH3mElrG8WB3%2Bf6ZrCP/AAWz/YMjGy88S%2BMbeU8JbzfD3VA7t2UYgIyfrXLLO8nhJxeIhdf3l%2Bl1%2BJwz4iyGnJxliqd1/eX6XX4n1rRXySP%2BCuPhDX/m%2BFn7En7RXi%2BHr9u0b4XyLb7fXfLKh%2BgxzTLz/grloPhm3bV/iV%2BwR%2B0r4X0iDDajr%2Br/AAuIsrCPPMszpOSqDuQpPsan%2B3Mp39rp3tO338lvxt5k/wCsmR7%2B2Vu/LO33%2Bzt8728z65orh/gR%2B0r8Bf2nPCY8bfAT4q6P4n0/C%2Bc2m3QMtsTyFmhbEkDf7Miqfau4JAGScCvSp1adamp05JxezTTT%2BaPXo1qOIpqpSkpRezTTT9Gm0FFUr/xH4e0qJp9T16ytkUZZ57pEA%2BpJrl779pT9nPTL1dN1L4/eCre5c4W3n8VWaOT6BTJmlOrSp/FJL1aX5tCnXoUvjml6tL82jtaKx9L%2BIXgHXLb7bonjjR7yEDJltdTikX81YioNX%2BK3wu0C3a7174k6BZRJ9%2BW71iCNV%2BpZgBT9rSSvzK3qv8xutRUeZyVvVf5m/XjPjj/lIX8L/wDsjPjz/wBO3hCruq/t6/sPaJff2Zq37Yfwvt7gfeik8eaeCv8Avfvvl/GuH0j47/A/43f8FB/h3L8F/jL4U8Xrp3wZ8cf2g3hfxFbagLXzNW8JeX5nkO2zdsfbuxnY2OhrKGLwlSfJCpFvspRb%2B5Sb/Axp47A1qnJTqwlLspRb%2B5Sb/A%2BkaKKK6DqCiiigAooooAK/Ff8AZc1e3%2BJX/BdiGw1WQGy%2BH3j34hi4ZlJ2bdf8R3UYGP8Aptfx8DqTjrX7UV%2BOP/BKLwvceI/%2BCwv7R3jC8tswaJ8RfGIgcjpLL43WFTn02RSivnOIYOrPB0ltKvC//bqlL9D2%2BGqEqmeRxHShRxdV%2BscLUpwfqp4mNj9ef%2BEw0n/n01T/AMEd3/8AGqX/AITDSf8An01X/wAEd3/8ar528ff8Fkf%2BCb3wv8d618NPHP7Rv2HW/DurXOmaxZf8IhrEv2e6t5Wilj3x2jI%2B10YblJU4yCRzWT/w/L/4Jaf9HQ/%2BWTrf/wAhV3yzzJYScZYmmmv78f8AM%2Bho%2BFviZiKMatLJMXKMkmmsPVaaaTTTULNNNNPqmn1Pp/8A4TDSf%2BfTVf8AwR3f/wAao/4TDSf%2BfTVf/BHd/wDxqvnbwD/wWR/4JvfFDx3ovw08DftG/btb8RatbaZo9l/wiGsRfaLq4lWKKPfJaKibndRuYhRnJIHNd9%2B398YPiZ%2Bz7%2BxN8U/jj8G7TTZvE/hLwPqGq6OurzMlussELSb32xybtqhmCbcOyhCyBi69eFxuDxsXLD1IzS35Wnb1sfP55wzxJwxWhSzjBVcNKabiqtOdNySdm0ppNpPRtddD0v8A4TDSf%2BfTVf8AwR3f/wAao/4TDSf%2BfTVf/BHd/wDxqvnvU/23Pjb4V%2BIfjnwX8QvgV4E0LT/hl8PLTxN458T3fxUujY273cWqNb21tjRxLOofT4xLK6RFEuC0cczoIpOZ%2BG3/AAUq1f4q6p4Z0PVvhPq/hfW4vjRL4O8Q6Qst5bQyIfB%2Boa/DPt1jR7S9eF0hiTb9ntJBKgZZZIVK3HSeGfVX/CYaT/z6ar/4I7v/AONUf8JhpP8Az6ar/wCCO7/%2BNV88/slft8/En9ofT9EuPHP7MH/CP3fiz4TaL8QfCel%2BHvGsOqz3WnXzBHgnNxBZRW9xCXiYqHkR0fIcMpjrqf2q/FnxV1L4tfC/9nj4W/FfUPAjeNrrWLrVvFejabY3V7Fb2FkJFtoFv7e4t1aSaaFmZ4nPlQSqu1mEiAHrv/CYaT/z6ar/AOCO7/8AjVH/AAmGk/8APpqv/gju/wD41XztZ/tBftI/FD/gmL4W/aB%2BHdhK/j3W9A0GfWrjw1oq3c0UEl7axavf6fZyBxPKlmby6trdll3ukSFZc7W8i8M/tV/tRfEHQr7wvp3jj4v2nhbwf8YdS8M6/wDEfSfhHb3PjC4s/wCwNP1TTXn0g6XIlukk%2BotBJINPRlW2h3rAZJHUA%2B5v%2BEw0n/n01X/wR3f/AMao/wCEw0n/AJ9NV/8ABHd//Gq%2BLdQ%2BO37Tfxy/Zk/Zu%2BNPgX9orxZ4G8c/GO88MaXN4R0fRNAn0uViH1DWr5lvNPurhcaba37oI7kRgpbgHLF39etPiF8W/A37bvxG8HeJvjlLqHhGL4RWfinR9G13TLGCx8PT/bL2CQie3t0uZIilurOZpZSOdu3pQB7n/wAJhpP/AD6ap/4I7v8A%2BNVfsL%2B01O0S%2BsZxJFIMqwBHfBGDyCDkEHkEV8d/8Exv2if2oPin4yvfDH7S2v8AidpdQ%2BFnh3xPpll400rRrea5uLqS7S8u9MOkRoo0olbYRRX3/EwjJ/fJGGXd9a%2BD/wDkEzf9hS%2B/9K5aANWiiigAooooAKKKKACiiigAooooAKKKKACiiigAooooAKKKKACiiigAooooAK8Z/Zf/AOS3/tHf9lmsf/UK8L17NXjP7L//ACW/9o7/ALLNY/8AqFeF6APZqKKKACiiigAooooAKKKKACiiigAooooAKKKKACiiigAooooAK8X%2BCvxd%2BOGtftcfFn4C/FS98KXWj%2BGNC8Pa54Qn8P6Lc2tzFaalc6zD9nvHmupluJUXTIm8yNIFzK42HANe0V4vov7HmsaB%2B0X4w/aS079rL4lDUPGelWWmXuhPaeHTp9naWc91NaRQD%2ByPPHlG9ulDSTSMyzHeXKoVAOYf9sX4ieJ/28NF/Z5%2BH2g6I3w/m0vX7LU/E13BNJdXXiDTktJJYbUrKsf2e3F0sUzFXL3BliBia1k38F4q/aj/AG9/BL/HnSdNvvAHj25%2BFmi%2BH7fSLnwp8JNZSWTX75/PurR7GLWLua8W306awuNkLRyOb0AYC/N7Dcf8E7v2Nv8AhpfQf2t9G/Z98I6R450K51S7Os6R4U063m1G8v8AYZry6mW386a4BV2WXzAwM8pJbea6Hwz%2BzRpfgPwD4u8IfDv4peKdC1Txn4vv/Emp%2BMLQ2E2px3l1ciUiP7TaS2xjihSK0jWSB9tvBGpLODIQBf2VPi3N8ZfhSPE2o/E7RvFOo2uq3Njq11o/gi/8NmzuIm%2Ba1n0zUbie6tJ0UruSZgxDK21VYVwN/wDFz4UeOf8Agpt4L8BeCfid4e1jXfDHwe8cReJdF0rWoLi70l5NW8JeWtzDG5eAtsfAcKTtOOhr0z4B/APQPgDoWs2On%2BLdc8R6r4m8QS654n8TeJJbdr3Vb%2BSGGDzZBbQwwRhYLe3hVIoo0VIUAXOSeU8cf8pC/hf/ANkZ8ef%2BnbwhQB7NRRRQAV5/8f8A9lb9nf8Aal8N/wDCLfH74R6N4mtlQrby31ti5tc9TDOhWWE%2B6Mpr0Cis6tKlXpunUipRe6aTT%2BTudeAzDH5Vi4YrBVZUqsHeM4SlCUX3UouLX3%2Bt1ofIMH7A37X/AOzuvl/sRft36rBokBzZ%2BAvivpq61YRr2hjuxi4t4h0CoCcHqTyXj9sr/goZ8DR5H7UH/BPO78T2MP8Ar/FHwR1pdTWXHUpp05FyB3%2BZhX13RXmf2SqP%2B61Z0/JPmj/4DPmSXpJH3D8QqmZP/hey/D41vecoOhXfm6%2BG9lKT86lKo29W31%2BYfA//AAWH/YB8Wah/wj3iT4yy%2BCtaQgXWiePNEutKntm9JGmTygfpIa9v8J/tB/ATx5bx3fgf43eENZimGYpNK8S2twrj2MchzWr41%2BG/w7%2BJWnf2P8RvAWi6/aEEfZdb0uG6jwevyyqwrxPxT/wSf/4Jy%2BMJ5LjVv2RfCULSnLDS7aSxUfRbZ4wv4AU7Z5S0vTn6qcH%2BHOiXU8K8d7zhjcK%2B0ZYfEx%2BTmsPU%2B%2B/m76numseGfCPi%2B1C6/wCH9N1SFl%2BUXlpHOpH/AAIEYpnhPwL4J8BWcuneBvB2laLbzSmWaDSdPitkkc8F2WNQC3uea%2BXbr/gjr8AfA1w2tfsk/Fb4j/BjU87t3gvxjcyWc7%2Bs9tdvKJl/2dyjgUsXwM/4LB%2BC0Fl4Y/bf%2BG3i6GH5YZvGHw6azllUdPMNmxGcdSOvWp%2Bt4ylK9bCNvvBxn%2BfJJEvhHg7MJe1y3O6UX/LiqNXDzX/b0I4mk16TXmj62or5JPxF/wCC0Pw3PmeKP2dPgr8SYU5Efgrxbd6PO49CdQBQN9OKUf8ABRD9qnw%2BNvxF/wCCUvxYtXTiYeGtQstYUHvtMbJvHv3qv7Zwsf4sKkP8VOf5pTX4j/4hrn1bXA18LiF3pYzDN/8AgNSph5/fE%2BtaK%2BS/%2BHrssHy6l/wTZ/arhYfeZPhHvQH/AHhc80v/AA9q8Pjhv2Af2oh9fhA3/wAkUf25lX/P3/yWf/ysP%2BIWcf8ATA39KuFf5Yxn1nQQCMEV8mf8PePhpbf8h39j39orSx3OofCaZcf98ytTrX/gtZ%2BwNZ3CWPxC8beJ/Blw5wtv4r8Canbtn0JSB1H4mn/buT9a8V63j/6VGIn4VeI7V4ZVWn/17UKr%2B6lVqv8AA%2BgPGf7O/wCz/wDEfePiH8DPB2veZ9/%2B2fDNpdbvr5sbZrxrx3/wR%2B/4Jy%2BPrr%2B0rj9mXStGvFbdDeeFr260poW/vKtrKiA/VSPatjQv%2BCp3/BO7xFtOn/tf%2BCo93T7fqn2X8/OCYru/DH7Xf7KHjbaPB37Tnw%2B1Ut91dO8Z2Mx%2BmElJzUz/ALAx/wAXsp/%2BC2/zufKZr4d53STeY5PVXdzwtRfi6H/txy/7P/8AwTs/Yz/Zluk1n4U/AjR49ZV/MbxHq6NqGpNITlnFzcl5EJPJCFR7V6j4t%2BG3w68fQm38deAdF1qMjBTVtKhuRj0xIpqL/havwv8A%2BikaB/4OIP8A4qrth4y8Iarj%2By/Fem3Oen2e%2BjfP5GuyjQwNGl7KlGKj2Sjb7v8AO55VPJVgsP7KGG5IdvZtL/0hL77%2BplaB8E/gz4U2/wDCL/CPwxpu37v2DQLeHH02IK5vx/8AsZfsjfFQvL8Rf2ZPAesTOctdXvhS0abPtL5e8fga9EbVNMT7%2BowD6zL/AI06K9s5/wDUXcT/AO5IDWksPhZw5JQi12tG33WMp4DDTp8k6MXHs4K33ONjA%2BG3wc%2BEfwb0n%2BwvhJ8L/D3hiywAbXQNGgs0bHqIlXJ9zXSU0zQg4My/99CnVrCEKcVGCSS6KyX3KxpCnClBRhFJLZJJL7kkvwPMfjD%2Bxb%2ByX8f5Xu/jH%2Bzr4R167dstqN5okQu//AhAJQPUbua4a1/4JN/8E47OVZYf2RPCRKMCBLbySDj1DOQfoa%2Bh6K5KmXZdWnz1KMG%2B7jFv8jhq5TlVep7Srh4Sl3cIt/e4nO/Dv4RfCn4Q6V/YXwo%2BGfh/wzZYA%2ByaBo8FnGceqxKoNdFRRXXCEKcVGKSS6LRfhY7YU4UoKMEkl0SSX3JJfgFFFFUWfOvxq/4JX/safGvxmfiRcfD%2B88KeIpdwvta8BarLo818jfeWcW5CSbjgliu84HzVyg/4Ig/8E578%2BZ4v%2BE%2Bu%2BIZP%2Be2tePdXds%2BvyXKV9a0V5k8myirNznh4Nve8V%2BW34Hj1OH8irVHOphabb1d4rV97bX87a9T5Xsf%2BCJv/AAS/06VZbf8AZWs2KngT%2BJtVlH4h7sg/jXUWP/BKz/gnXp9k2n2/7IHgto2GC0%2Bm%2Ba/4O5LD8DX0BRVQyfKIfDh4L/tyP%2BRUMgyKn8GFpr/uHD/5E%2BYdU/4Izf8ABMvV7n7Xd/so6Sj%2Blrq%2BoQL/AN8x3Cr%2BlWNJ/wCCPH/BNPRbhbmz/ZM0F2ToLu9vLhfxWWZgfxFfS1FL%2BxsoTv8AV6f/AIBH/IS4fyFSv9UpX/69w/8AkTyLSf2Af2F9Esf7O0/9jj4YCI/eEvgSwkZvqzxEt%2BJrh9D/AGffgP8AAr/god8P5Pgn8FvCng86t8GfG/8Aan/CMeH7awF35WreE/L8wQIofb5km3PTe2Opr6Vrxnxx/wApC/hf/wBkZ8ef%2BnbwhXVTwmEpSUoU4prZqMU/vUU/xO2lgMDRkpU6MItbNRimvRqKf4ns1FFFdB1BXiX7W3jL4nDx38KfgV8MfiZf%2BCpPiD4tvrXVvFekWFlc3traWekXt8YrZb6Ce3EsksEILSQyARLNtUMVdPba4741fAb4Y/tBeHrHw18TtK1CaPS9UTUtJvtG1%2B90q/0%2B7WOSIT215YzQ3Fu5immiYxyKWjmkRsq7KQD56P7Qn7THxA/YM%2BHfxV0DUtag1jUPEdvpvxI8UeAfCSanqdrp1vc3Nrd6np2nNBcrK0s1vC3liC4McNxIyxuYxXz18fv%2BCu/jbwV%2BxP8AYLb4/wCk%2BBPiXFqHjF4vE/j6303Tr%2B80rw/rt1p1uUsLpVhfUr5obeKS3WECL/T2EcLxRR197f8ADK3wbt/hhH8G9As/EWheHLeysLOx0/wv461fSWsILNAkEdtLZ3UUlqNqgP5LJ5vPmb8nNqf9mf4H3HwCn/ZgfwHEvga60qTTrrRI72dDNBIS0u%2BdZBM0juzO8pfzHd2dmLMSQDe1b4k%2BD9L%2BHh%2BKtrfXOsaGdOS%2Btrrwxplxq73lu6hkkt4bFJZbkMrKy%2BUrlgcjI5r82v8Aginpln4n/aP/AGtvi/Z294tpe/He5g0v%2B0dKnsblI5vFeq3ciS29wiTQSDzYg0ciK6kEMqkED9Qq%2BG/%2BCTHhF9K8N/tIeMbmLEut/tneMljfH3oIPEXlr%2BT%2BbXnY2j7XF4Z/yyk/upyX6n1nD1ehhclzecl78qEKcX1XtMTR5resKdn5M%2B5KK%2BYvH/8AwU1/4QLx3rfgX/h3z%2B09rX9i6vc2H9saB8J/tNhf%2BTK0fn20v2kebC%2B3ej4G5WU4GayP%2BHsP/WNT9rT/AMM3/wDdVRLOssjJxdTVf3Z//Kz86lxDk0JOMquq0%2BGp00/59H1pWL8R/h54M%2BLnw%2B1z4VfEbQYtV8P%2BJdIudL1zTJ2ZUurS4iaKaIlCGAZGYZUgjOQQea%2BfPAP/AAU1/wCE98d6L4F/4d8/tPaL/bWr21h/bGv/AAn%2BzWFh50qx%2Bfcy/aT5UKbt7vg7VVjg4r2b9pPxh8Tvh58AvF/xB%2BDPhy01nxPoOgXOpaPot7C7pqUkCGU2oCOhDyqjRo27Cu6sQwBU9eGxmGxkXKjK6W%2Bkl/6VGP6nbg8fg8wi5YeXMlo9JLz%2B1GP4XMaD9jX9nhfCvinwdqfhDUtXs/Gvhu30HxVL4i8V6nqd1qVhB9p8mOS5u7mSfen2ufEocSjcvz/Im3O8D/sFfstfD3Ul1zw/4C1KbUh4uHiiXVta8Y6tqV5cauNIm0YXc1xeXUss7DT55bfEjMu0qcbkRl8N8R/8FH/ib8SPC1z4x/ZcbQ9VsPEfjubSPhRLF4SXVG8QadYaQt1qt7I1zrelW0McV358Adrhdos3ASVpB5fE%2BDf26viN8XPEeifHiy%2B02unePPhl%2BzvqsfhRtfvfsOlT%2BIvF2u21/JB9mni3OYvJRmOUnW1hWZJYl8o9J2H2H4Y/ZO%2BBHgmx0Sw8HeE73Sl8OeBrTwdok2neI9QhmtNFtXjeC1WVJw52mKPMhYyMAQzsGYHR%2BN/7PXwp/aJ0TT9D%2BKWj6jMNI1E32kX%2BieIr7SL6xuDDLAzw3lhNDcRboZponCSAOkjKwKkivk34J/tU/tQfG79qT4QeMNT8VeEf7E8d/C3x/rfhz4e6VdXuntayWd/o0FtBq0pmuEupY/NKNcJbRG2ke4RYpM5Pt37b%2BreJJ9M%2BFHw3l8Var4d0jx38V7DQ/GepeG9duNPuobM6ff3SQQ3tu0U9v597a2dr5kbRyMtwVUqXFAHobfs9fC2LwInwy0Ww1fRdAg8NWmg2OmeGvFOo6XHp9ha/6hLX7JPGbR0GF86EpKVVFLlUUDAuP2LvgDN8K7b4NWmneKdP0O31SfUZm0b4ja5Y32oXU/mefLe31veJd35kMjFxcyyhztLAlVx5h8GNT/aC%2BKP/AATf8c6J8KfiZcS%2BN7S98feG/h34w1zUjJNLHYa3qunaRdTXUgkMj%2BRb2xN04kMhHnMH3HPmfwt8cWmmeDf2i9J/aG034t%2BFfht8JLXTPEMNrq/xr1K58Q6fOuky3N/ZyatpuqSzMCiW862pvJQBexsVTzFijAPsG1%2BAnwgsPEPg7xPpvga1tbn4f6Lc6T4MitHeK20mznjt4pI4rdGEI/d20MasULRoHRCqySBuck/Y2%2BA8/wC0Fe/tPXdh4pufFuo6WdMvzd/EXXJtLnsjG8f2VtKe8NgYR5sjiP7PtEjmUASHfXy18XPgH8SfCP8AwTa%2BF/ww8c/GP4q23xq8WnTvC%2Bl6vp3xm8SW93p2ta3deffStJFfq1%2BumQPezRfavNKwacExtyp9r13QNQ8D/wDBTT4cQ6N8Q/GEmneJfgx4vOq%2BH7/xhf3GlvJp994XitZ1spJTAtwq3dzmcJ5r%2Be%2B5yDigD0L4C/sifAL9mi7utQ%2BEHhTULS4utMtdMFxq/ijUdWkttPtjIbextmv7iY2trGZZClvCUiUtwnSu28H/APIJm/7Ct9/6Vy1qVl%2BD/wDkEzf9hW%2B/9K5aANSiiigAooooAKKKKACiiigAooooAKKKKACiiigAooooAKKKKACiiigAooooAK8Z/Zf/AOS3/tHf9lmsf/UK8L17NXjP7L//ACW/9o7/ALLNY/8AqFeF6APZqKKKACiiigAooooAKKKKACiiigAooooAKKKKACiiigAooooAKKKKACiiigArxnxx/wApC/hf/wBkZ8ef%2BnbwhXs1fOH7R%2Br/ABr0f9vD4Tz/AAO%2BH/hbxFqTfCPx2t3aeK/GFzosEcH9qeEiXSW30%2B9Z33bRsMajBJ35AUgH0fRXjP8AwnH/AAUL/wCjX/gz/wCH41b/AOZej/hOP%2BChf/Rr/wAGf/D8at/8y9AHs1FeM/8ACcf8FC/%2BjX/gz/4fjVv/AJl6P%2BE4/wCChf8A0a/8Gf8Aw/Grf/MvQB7NRXzjpP7R37dusfGfX/gdb/sofCRdU8O%2BF9I128uX%2BOuqeRJBqNzqVvCiEeGNxdW0ucsCoADx4LEsF6j/AITj/goX/wBGv/Bn/wAPxq3/AMy9AHs1FeM/8Jx/wUL/AOjX/gz/AOH41b/5l6P%2BE4/4KF/9Gv8AwZ/8Pxq3/wAy9AHs1FeM/wDCcf8ABQv/AKNf%2BDP/AIfjVv8A5l65fwD%2B0d%2B3b8RPFfjfwho/7KHwkhuPAfiiLQtVkufjrqgSeeTStP1MPFt8MElPJ1GFSWCnejjGAGYA%2BjqK8Z/4Tj/goX/0a/8ABn/w/Grf/MvR/wAJx/wUL/6Nf%2BDP/h%2BNW/8AmXoA9morxn/hOP8AgoX/ANGv/Bn/AMPxq3/zL0f8Jx/wUL/6Nf8Agz/4fjVv/mXoA9mqO6tLS%2Bt3tL62jmikGHilQMrD0IPBr51%2BEX7R37dvxl8KXfi/w5%2Byh8JLa3s/FGt6FJHe/HXVFcz6Xqt1pk7jb4YYbGmtJGQ5yUZSQpyo6j/hOP8AgoX/ANGv/Bn/AMPxq3/zL0bjTad0dhrv7NP7OXijd/wk3wA8E6ju%2B99u8K2c2frvjNcJ4n/4Jof8E/fF27%2B1/wBjz4fRl/vNp3huCzJ/G3VDVv8A4Tj/AIKF/wDRr/wZ/wDD8at/8y9H/Ccf8FC/%2BjX/AIM/%2BH41b/5l65amBwNb%2BJSi/WMX/wC2nu4PinijLmnhcfXp2/lrVo/gqqX4HI/8OfP%2BCav/AEaboH/gZd//AB6qN/8A8EXf%2BCY%2BpZ%2B0fsqacuev2fXtSi/9AuRXef8ACcf8FC/%2BjX/gz/4fjVv/AJl65f4I/tHft2/Hj4MeEPjj4V/ZQ%2BElrpfjPwvp%2Bu6bbah8ddUWeGC7to7iNJAnhhlDhZAGCswyDgkc1zPJcne%2BGp/%2BAR/yPZh4meJFN3jnWLT/AOwmt/8ALDBX/giJ/wAEvE6fstQfj4s1g/zvKZL/AMEPv%2BCXM33/ANlyMf7vjDWV/leV6T/wnH/BQv8A6Nf%2BDP8A4fjVv/mXo/4Tj/goX/0a/wDBn/w/Grf/ADL1P9hZJ/0DU/8AwCP%2BRuvFXxPTv/bmM/8ACmt/8meaf8OOP%2BCWwGP%2BGXV/8LTW/wD5Npn/AA5S/YX07jwVpHjbw0B91dC%2BIepxhfYeZM9enf8ACcf8FC/%2BjX/gz/4fjVv/AJl65f43ftHft2/Af4MeL/jj4q/ZQ%2BEl1pfgzwvqGu6lbaf8ddUaeaC0tpLiRIw/hhVLlYyFDMoyRkgc0v7CyTphoL0il%2BViv%2BIr%2BJ32s6xUvKVec190%2Bdfgcz/w5X/Yiueddt/HmqHu2ofEXUmJ/wC%2BZVpf%2BHLH7EsH/IMj8e2Q9LX4i6kP5ymvTf8AhOP%2BChf/AEa/8Gf/AA/Grf8AzL0f8Jx/wUL/AOjX/gz/AOH41b/5l6P7Cyb/AKB4fd/wQ/4it4l/9DfEentNPu5LfgeY/wDDlr9ixuZ5viDIezP8RtRyP/ItH/Dm39mi1P8AxIfiz8YdKx93%2Bz/ideLj6bt1enf8Jx/wUL/6Nf8Agz/4fjVv/mXo/wCE4/4KF/8ARr/wZ/8AD8at/wDMvR/YWTf8%2BI/c/wBGg/4it4kvfNqz9ZRa%2B6VOS/A8x/4dF%2BAofl0v9tb9pKxXulp8W5QMenMJpf8Ah0R8OH%2Ba5/bI/aNmk6rLL8WpiwPqMRV0vxd/aO/bt%2BDXhS08X%2BI/2UPhJc2954o0TQo47L466ozifVNVtdMgc7vDCjYs13GznOQisQGOFPUf8Jx/wUL/AOjX/gz/AOH41b/5l6P7Cyj/AJ8r75f/ACYf8RU8Qv8AoYS/8AoX%2B/6rf8TzH/h1E1p8mh/8FHf2pbOM8GEfFjegH%2Bzut%2BPrSn/gk1p9xxq//BRH9qe9U/ejuPi%2Bdp9sC2Fem/8ACcf8FC/%2BjX/gz/4fjVv/AJl6P%2BE4/wCChf8A0a/8Gf8Aw/Grf/MvR/YeVf8APr/yaf8A8sD/AIinx/8A9Buvf2OFv9/1O/4nmP8Aw5z/AGe7znxJ8dPjZrJP3jqnxRu3z9doWj/hyn%2Bwy/7240vxvLcD7l5J8Q9TMqH1BE2P0r07/hOP%2BChf/Rr/AMGf/D8at/8AMvXL%2BPv2jv27fh34r8EeENY/ZQ%2BEk1x488US6FpUlt8ddUKQTx6VqGpl5d3hgEJ5OnTKCoY73QYwSyn9hZN1oRfqm/zbD/iK3iSvhzatH/DKMV90KcF%2BBzI/4I9fA2x%2BTwv%2B0b8dtEi/54aV8VLlE/8AH1Y/rS/8Oivh/wBB%2B2l%2B0iF/u/8AC25cf%2Bia9N/4Tj/goX/0a/8ABn/w/Grf/MvR/wAJx/wUL/6Nf%2BDP/h%2BNW/8AmXo/sLKP%2BfK%2B%2BX6TD/iKniI98xm/WNFv75YZv8TzL/h0N8MvvD9sD9orf/z0/wCFszZ/9FVS%2BCv7I2ifsr/8FC/BY0X44fEvxkuu/BnxlvX4h%2BLm1UWXk6t4Vx9n3Ivlb/OO/ru8uPptr1r/AITj/goX/wBGv/Bn/wAPxq3/AMy9UPA/gf8Aas8Y/tWeHPjd8bvhx8PfDOjeGfh74h0OGHwr8Q77Wrq7utSvtEuEZkuNIsUijRNLlBYO7FpUAXGSNqGVZdhqqqUqaUl1vL9ZNfgefmnH/GWd4GeCx2MlUpTteLjSV7NNaxoQkrNJ6SXndaP3WiiivQPjwooooAKKKKACvnL9iDwvpnhX9nnxZe2Ac/bv2h/H%2Bp37sM4I8eapvbgdFSMfgtfRtfJX7JXiz9s7T/h74os/hj8A/hhq%2BhJ8afiL/Z%2Bo698XdR027mX/AITPWSxktotAuUiIbcABM%2BQAcgnaE0m0%2BxcalSMJQT0la/nZ3X3PU%2BoP%2BE58E/8AQ4aX/wCDCP8A%2BKpf%2BE58E/8AQ4aV/wCDCP8A%2BKry3/hOP%2BChf/Rr/wAGf/D8at/8y9H/AAnH/BQv/o1/4M/%2BH41b/wCZemQepf8ACc%2BCf%2Bhw0r/wYR//ABVH/Cc%2BCf8AocNK/wDBhH/8VXlv/Ccf8FC/%2BjX/AIM/%2BH41b/5l6P8AhOP%2BChf/AEa/8Gf/AA/Grf8AzL0Aal98DP2KNU%2BHGk/B3U/g78LbjwjoF79s0LwrP4e019N0253SN50FsU8qGTdLKd6KDmRzn5jnQ0/4cfso6Ta2tlpXgP4e20NlaaTaWUNvpdii28GlzyXGmRIAoCJaTyyy26jAgkkd4wrMSfM/gj%2B0d%2B3b8ePgx4Q%2BOPhX9lD4SWul%2BM/C%2Bn67pttqHx11RZ4YLu2juI0kCeGGUOFkAYKzDIOCRzXUf8Jx/wAFC/8Ao1/4M/8Ah%2BNW/wDmXoA1bH4H/sVaX4p1vxzpnwg%2BF1vrfiWC6h8R6xB4f01LrVY7rH2lLmUJvnWXavmByQ%2BBuziug8b6V8APiZ4Iufhl8SNN8HeIPDd5CkV34e1yG0u7GeNGVkR4JQ0bKrKpAK4BUEdBXFf8Jx/wUL/6Nf8Agz/4fjVv/mXo/wCE4/4KF/8ARr/wZ/8AD8at/wDMvQB1cfg79maLQrPwvF4V8CLpmneHbjQNP05bGyEFrpNwIRPp8ceNqWsgt4A8AAjcQR5U7FxV8OfDH9krwf8ADV/gx4R%2BHnw60vwdLKZZPCenaTYQaY7mQSFjaooiJLqr5253AHqK82%2BN37R37dvwH%2BDHi/44%2BKv2UPhJdaX4M8L6hrupW2n/AB11Rp5oLS2kuJEjD%2BGFUuVjIUMyjJGSBzXUf8Jx/wAFC/8Ao1/4M/8Ah%2BNW/wDmXoA9B1i7%2BD3iHVdK13X7rw1fXug3j3mh3l49vLLp1w8Etu80DtkwyNBNNEWQglJXUnazA8n4k%2BB/7FXjH4t2Px%2B8XfCD4W6r470sxHTPGupeH9Nn1e0MfMflXjoZo9n8O1xt7YrK/wCE4/4KF/8ARr/wZ/8AD8at/wDMvR/wnH/BQv8A6Nf%2BDP8A4fjVv/mXoA9R/wCE58E/9Dhpf/gwj/8AiqPBh36GZ1B2TX13LESMbke5kZW%2BhUgj2NeXf8Jx/wAFC/8Ao1/4M/8Ah%2BNW/wDmXrl/i7%2B0d%2B3b8GvClp4v8R/sofCS5t7zxRomhRx2Xx11RnE%2Bqara6ZA53eGFGxZruNnOchFYgMcKQD6Oorxn/hOP%2BChf/Rr/AMGf/D8at/8AMvR/wnH/AAUL/wCjX/gz/wCH41b/AOZegD2aivGf%2BE4/4KF/9Gv/AAZ/8Pxq3/zL0f8ACcf8FC/%2BjX/gz/4fjVv/AJl6APZqK%2BcfH37R37dvw78V%2BCPCGsfsofCSa48eeKJdC0qS2%2BOuqFIJ49K1DUy8u7wwCE8nTplBUMd7oMYJZeo/4Tj/AIKF/wDRr/wZ/wDD8at/8y9AHs1FeM/8Jx/wUL/6Nf8Agz/4fjVv/mXo/wCE4/4KF/8ARr/wZ/8AD8at/wDMvQB7NRXjP/Ccf8FC/wDo1/4M/wDh%2BNW/%2BZeuX1b9o79u3R/jPoHwOuP2UPhI2qeIvC%2Br67Z3KfHXVPIjg065023mRyfDG4OzapAVAUghJMlSFDAH0dRXjP8AwnH/AAUL/wCjX/gz/wCH41b/AOZej/hOP%2BChf/Rr/wAGf/D8at/8y9AHs1FeM/8ACcf8FC/%2BjX/gz/4fjVv/AJl6P%2BE4/wCChf8A0a/8Gf8Aw/Grf/MvQB7NRXzjpP7R37dusfGfX/gdb/sofCRdU8O%2BF9I128uX%2BOuqeRJBqNzqVvCiEeGNxdW0ucsCoADx4LEsF6j/AITj/goX/wBGv/Bn/wAPxq3/AMy9AHs1FeM/8Jx/wUL/AOjX/gz/AOH41b/5l6P%2BE4/4KF/9Gv8AwZ/8Pxq3/wAy9AHs1FeM/wDCcf8ABQv/AKNf%2BDP/AIfjVv8A5l65fwD%2B0d%2B3b8RPFfjfwho/7KHwkhuPAfiiLQtVkufjrqgSeeTStP1MPFt8MElPJ1GFSWCnejjGAGYA%2BjqK8Z/4Tj/goX/0a/8ABn/w/Grf/MvR/wAJx/wUL/6Nf%2BDP/h%2BNW/8AmXoA9mrxn9l//kt/7R3/AGWax/8AUK8L0f8ACcf8FC/%2BjX/gz/4fjVv/AJl6t/srfDn40%2BD9Y%2BKHjv46aB4X0nVPH3xCi1yz0rwn4ludWt7W1i0HR9MVXuLiys2aRpNOlcqItoWRBuY5wAet0UUUAFFFFABRRRQAUUUUAFFFFABRRRQAUUUUAFFFFABRRRQAUUUUAFFFFABXyvq37Wnxch/aRm1xfDvg9vh5pHxgtvhc0UmkXB183F5p9rcNqEd59o8pIPt0tvbtafZyWSHz/PBCw19UV4zefsQ/Di8%2BPzfHV/HPipbaXxXD4qufAqXVr/Yk%2BvxacunR6oym3%2B0%2BatukY8oXAtzJEkxhMo8ygD2aiiigAooooA%2BY/Dn7S3xMh/4KAeKPg/8AEbWPD3hPw2uv2mi%2BDItR%2BEWspdeMYP7Ag1HEHiNrtdOaWO7udQAtBC8vl2kwCgs0i/TleV%2BLP2WoPH/xk0j4p%2BPfjf411fSvD2ux61oHgC4OmRaNY6hHbvBHOGhskvZdnmSSKk11JGJH3bPkQL6pQAUUUUAeL/8ABQX4u/HD9n79kfxp8evgFe%2BFI9Y8E6Fd65dQeMNFub62u7S1tpZnt0S2urZkldkRRIXKoCxKPwK8/wDHn7Wnxc8F/HjxbqfhTw74Qi%2BHnhD4x%2BEfh94ys5tIuDreq6rrsGipHqEN2lwsMccH9uaTGYpLeV5EhnxLHtQV7D%2B1j%2BzjZftafAjXv2fda%2BKvinwjpPieylsdcv8Awgunfa7mylieKa23X9pdRojq/LIiyAqNrrzni4P2AfB0/wARbP4i%2BKvjj4%2B11jrOk654m0bUJdKisfE%2BuaYkaWOrXsdtYRMtxEILTC2zQQMbG2LxMY8kA97ooooAK8X/AGyfi78cPgla%2BAfGPwsvfCn9jah8TPDnh7xfY%2BINFubm6ubXVdZsdNBs5YbqFLaSNbmWTfIk6koi7OSa9oryr9q79lt/2qvDeheF5/j7438DW%2BheJLDXUbwXDo7Pd3tjeQXlm0p1LT7wbYri3jcLGEDcrJvU7QAecfs8/tK/EzW/2q/FvwR%2BKGr%2BHvCenQ%2BKdbt/BPhKT4Razplzr1tC6Sm/t9buLv7BqDsZJZZYraAuMl2K4Yn6cryXSf2UQ/xk0X4y/Ef9oDx341m8L3d5d%2BE9C8QjSYbDR7q5t5LWS4iWw0%2B2llf7PNPCvnySqizvtAJBHrVABRRRQB4P%2B1r8Zv2gvgN4k8L%2BLvBniDwRe%2BHta8XaF4dtvAt94cvJNc1y5vb5YblrS9jvVihMFq0l1sa0mHl2kzO8aAvHx/7Ev7Wnxc%2BKmvfDjTPH/h3whZeF/i/8HLj4g/DLT/C2kXFpNoGlW0%2BloNPvWkuJY7mT7PrWnMJYY7dFaOdPKICtXoXxJ/Y5X4iftO6J%2B1Nb/tHfEDQtV8P6GNK0zQNMh0S40uCB5vNuWjS%2B0y4mhluQI45pYpUdo4Y0VkA5P2ef2Ifhx%2Bzj4ui8VeG/HHirWo9J8PS%2BHvBWkeILq1e18JaLJcJcPp1gILeKTyS8NsM3DzyhLSBBIFQCgD2aiiigAr5f/a5%2BPH7S/wAFviJp/hTSofAHjXR/HMOtW2i/DmLwffSawlraaHdXcl/cTi9eK6thdRW9tJCLWIH7fCgmMjIkn1BXh037E1xH%2B0f4r/aa0T9qv4l6dq/i3TYdOudLhg8Pz2mn2cMDRw21m1zpMtzbxLK73WxZtrzuXcODtoAZ%2Bwh%2B0J43%2BPnw8vLr4r%2BPtGvvF2nCzbX/AA3ZfC7V/CN5oDz2yyiC5sdXup7hwW3%2BXcARxyKh2htpNe6V5v8AA79m7Tvgz4n8SfEPWPil4p8ceKvFcVjb6x4n8XNYLcvaWYm%2By2qRafa2ttHFG1zcuNsIZmuJCzNkY9IoAKKKKAPij9pj9uH4/fA74%2B3/AMB9R03wh4tGsPZJ4S/tH4Z6votto%2Bo3viHQ9M0hnvLu8lt/ECRy6xDLcNp4ia3a0%2BfyWlRV9/8A2Vfi/wDEj4jDx/8AD74xHRJ/FXw08eN4a1nVfDWnTWdhqfmaXp2rW9xDbzTzyW%2BbXVLdHjaaXEkcmGIIxy3xL/4J5%2BDfjbr1x4g%2BNvx8%2BIvip7aO4/4Q6G/udKtk8I3El1b3Ud3YGzsIWe4hltLYxSXbXJTyu%2B99/o/wD%2BAuh/APw9q2m2Xi/XPEmreItem1rxP4o8SvbG/1e%2Bkjih86YWsEEC7IILeBEiijRY4I1C8EkA7qiiigAr4m/ai/bH/aw%2BDvxm8UfCvwf4a8OeN9V0vwxf8AiHwlGnwT1%2BGTSHS70%2B3hWFzeuviaT7Jqc6zDS/KeFoisgj84Rj7ZrxHWv2L9R8ReP2%2BJ%2BuftafFC51uwt72HwbdumghfCq3c0Lzm0jGlBJ2aOFIA16LorEXAIZ2cgHS/sqfFub4y/CkeJtR%2BJ2jeKdRtdVubHVrrR/BF/wCGzZ3ETfNaz6ZqNxPdWk6KV3JMwYhlbaqsK9JrhPgH8A9A%2BAOhazY6f4t1zxHqvibxBLrnifxN4klt2vdVv5IYYPNkFtDDBGFgt7eFUiijRUhQBc5J7ugAooooAKKKKACiiigAooooAo%2BKPENh4S8Naj4r1UObXTLGa7uREuW8uNC7YHc4U185/sTftJ/Gvx/4p0fwZ8bPD3gyzHjr4W2XxG8Mw%2BDNKuLQaZHeXBN3p92ZriUXc0b3Ns/2xBAJ2lmJgj2gv9LXdpa39rLY3tuk0M0bRzRSqGV1IwVIPBBHGK8h/Zm/Yr8Bfswaq%2Br6B8QfFviWW28MWPhnw6PFl7azDQNCs3ke3021Nvbwlo1MnzSzma4kEcXmTP5a4APYqKKKACuF/ag8efEX4Wfs0fET4nfB/wAKLr3i3w54F1fVPC2htYzXQ1HUbezlltrYwwMsswklRE8uNg7bsKQSDXdVneLdEv8AxL4Y1Dw/pfivUdCub20kht9a0hYGurF2UgTRC4iliLqeQJI3TI%2BZWGQQDy79in4tT/FH4Z31lq3xC0DWdT8O6ounXmmaJ8MNU8HPoaC2gkis7jStUuZ7mFwjiRXby0eKWLYmBvf2KvPPgP8As7aT8DrzxL4jufiJ4k8Y%2BJPF%2Bow3niLxT4rezF3dGG3S3giEdjbW1tFFHGgCrHCmSzsxZmZj6HQAUUUUAfLn7VH7WPxQ/Zw%2BL3jiy%2BJWjeEvEXwvsP2d/F/j220K30S4TVXbRBpaz21xcyXL280U6304CC2QqETLvlhXb/sz/F/4%2Bap8XPGX7Ov7Sz%2BErzxR4Y8MeHvEseq%2BCtJubGykstWfUrdbYw3NzcuZYbjSLsGUSBZEeJvLjO5ag%2BMf7Cvh346fHVvjL48%2BO3jmXTZvBWp%2BEb74ewwaL/Yl3o2pLbfb7SQvprXpE7WkDs4ug6lCEZEZkPSfs7/su6H%2Bz7fa14jn%2BKHi3xv4h1%2B1sLK/8T%2BNrm0kvTYWKSLZ2Y%2ByW1vH5URnuHBKGR3uZXd3Zs0Aen0UUUAFfInxr/aX/a28F65%2B0B4Ft/CvgzxZe%2BAvD/hTxJ8NrHSfh/qd/Oseo6rqUIS7tYrx5dRngXTY51NsLclyQq/KrV9d14XL%2BxR4hi%2BOnjb4/wChftofFbStW8b6RY6Zc2NlZ%2BGGtNNtrK4uZ7NLYS6K8n7o3l0oMzyl1nIk8wqhUA6v9lT4tzfGX4UjxNqPxO0bxTqNrqtzY6tdaP4Iv/DZs7iJvmtZ9M1G4nurSdFK7kmYMQyttVWFek1wnwD%2BAegfAHQtZsdP8W654j1XxN4gl1zxP4m8SS27Xuq38kMMHmyC2hhgjCwW9vCqRRRoqQoAuck93QAUUUUAfG37S37Xf7S37PHxmg%2BG2sp8M/Gt9rcEE3hGHTvC17aS%2BC7zUvEOmeHtIm1OV76YXUU7avOC0S2cjixuljDL5hi9x/ZV%2BL/xI%2BIw8f8Aw%2B%2BMR0SfxV8NPHjeGtZ1Xw1p01nYan5ml6dq1vcQ28088lvm11S3R42mlxJHJhiCMcLbf8E1fCTXXxDfxD%2B0v8TtZt/iTrx1zWLfUjoXmWepRXEM%2Bn3NtdRaWl0psHt7cWkbzSRRLCgZH5z6x8A/gLofwD8Patptl4v1zxJq3iLXpta8T%2BKPEr2xv9XvpI4ofOmFrBBAuyCC3gRIoo0WOCNQvBJAO6ooooAZc/afs0n2PZ52w%2BV5udu7HGcc4zXxB8Vv2uf20/hp8RNc%2BG1vbeA/GeveGL3w1b6t468EfBXX9Wj8OW%2BrNePe2EulWepT3dzNHDZWN0TFOn7u6haWBAYmk%2B3ruGS4tZbeG6kgeSNlWeIKXjJGAy7gVyOoyCPUGvnv4MfsBeIPgJ8Nrj4afDv9ur4xRR3WrPqc2s3ll4Tn1CW7leWS5nmmfQj9pkneXdJJOJHzGmwoBggHrPwE%2BIdl8Vvg74f%2BIVh8QNG8VJqeniR9f8P6TNYWl3ICVkKWs800tsVdWRoZJHeNlZWO5SB19cl8C/gv4S/Z9%2BF%2BnfCnwVc39xZWEt1cTX2q3Imur67urmW6urqZwqhpZrieaV9qqu6Q7VVcKOtoAKo%2BJ4fElz4b1C38G6nY2WryWUq6XeanYPdW0FwUIjklhjliaaNWwWRZIywBAdSdwvVm%2BMdBv/FHha/8O6X4t1LQbm8tXig1rRxAbqxcjiaIXEUsRdTyBJG6HHzKwyKAPib4U/twftZfG74uX/wA%2BFdj8P4fHKPrc48beK/hbrWiR6hpOkWmiyfZptCu79NRsZWvPEcUcck8xQwrLcRxOsqg/W37Nnxm0/8AaO/Z08A/tDaVpEmn2vjzwVpXiK2sJpNz20d7ZxXKxM2BkqJQpOBnFeRah/wTU8Hajrd18SH/AGlvilD8RNQnuV1L4n2t5pEWsXVjPaQWsuneWumiyitjHa2zARW0ciywrKJBJlz738PvAfhP4WeAtE%2BGPgPR49O0Pw5pFtpei6fESUtrS3iWKGJc5OFRFUZ9KANeiiigDl/jTqPjjRvhbrWt/DnxDY6Xq1hZm6hvtQ8H3viBEjjIeUDTrGeC5vJGiV1SKGQOXZcK5%2BRvi34a/wDBRH4/a54h8Pa74wuPCPgTwbqcuo/8JR48vfgZ4iuLXUb2112TSYvtTJfRr4ZlltbaImLVGeS3YiN/ubK%2B2/iZ4M13x74Sm8OeG/ilr/g28kljeLX/AAzFYvdwbWBKqt/bXMDBgCpDxNwTjBwR4rqH/BObwpq/gG9%2BFGqftIfE248L%2BI7m7ufiFob3Gj7PGU93cvPdyX0o00Tw%2BcHELR2UlrGIUVFRQCSAfRNFFFABRRRQAUUUUAFFFFABRRRQAUUUUAFFFFABRRRQAUUUUAFFFFABRRRQAUUUUAFFFFABRRRQAUUUUAFFFFABRRRQAUUUUAFFFFABRRRQAUUUUAFFFFABRRRQAUUUUAFFFFABRRRQAUUUUAFFFFABRRRQAUUUUAFFFFABRRRQAUUUUAFFFFABRRRQAUUUUAFFFFABRRRQAUUUUAFFFFABRRRQAUUUUAFFFFABRRRQAUUUUAFFFFABRRRQAUUUUAFFFFABRRRQAUUUUAFFFFABRRRQAUUUUAFFFFABRRRQAUUUUAFFFFABRRRQAUUUUAFFFFAH/9k%3D\">"
      ]
     },
     "metadata": {},
     "output_type": "display_data"
    }
   ],
   "source": [
    "s.run(tf.global_variables_initializer())\n",
    "\n",
    "BATCH_SIZE = 512\n",
    "EPOCHS = 40\n",
    "\n",
    "# for logging the progress right here in Jupyter (for those who don't have TensorBoard)\n",
    "simpleTrainingCurves = matplotlib_utils.SimpleTrainingCurves(\"cross-entropy\", \"accuracy\")\n",
    "\n",
    "for epoch in range(EPOCHS):  # we finish an epoch when we've looked at all training samples\n",
    "    \n",
    "    batch_losses = []\n",
    "    for batch_start in range(0, X_train_flat.shape[0], BATCH_SIZE):  # data is already shuffled\n",
    "        _, batch_loss = s.run([step, loss], {input_X: X_train_flat[batch_start:batch_start+BATCH_SIZE], \n",
    "                                             input_y: y_train_oh[batch_start:batch_start+BATCH_SIZE]})\n",
    "        # collect batch losses, this is almost free as we need a forward pass for backprop anyway\n",
    "        batch_losses.append(batch_loss)\n",
    "\n",
    "    train_loss = np.mean(batch_losses)\n",
    "    val_loss = s.run(loss, {input_X: X_val_flat, input_y: y_val_oh})  # this part is usually small\n",
    "    train_accuracy = accuracy_score(y_train, s.run(classes, {input_X: X_train_flat}))  # this is slow and usually skipped\n",
    "    valid_accuracy = accuracy_score(y_val, s.run(classes, {input_X: X_val_flat}))  \n",
    "    simpleTrainingCurves.add(train_loss, val_loss, train_accuracy, valid_accuracy)"
   ]
  },
  {
   "cell_type": "markdown",
   "metadata": {},
   "source": [
    "# Submit a linear model"
   ]
  },
  {
   "cell_type": "code",
   "execution_count": 13,
   "metadata": {
    "collapsed": true
   },
   "outputs": [],
   "source": [
    "## GRADED PART, DO NOT CHANGE!\n",
    "# Testing shapes \n",
    "grader.set_answer(\"9XaAS\", grading_utils.get_tensors_shapes_string([W, b, input_X, input_y, logits, probas, classes]))\n",
    "# Validation loss\n",
    "grader.set_answer(\"vmogZ\", s.run(loss, {input_X: X_val_flat, input_y: y_val_oh}))\n",
    "# Validation accuracy\n",
    "grader.set_answer(\"RMv95\", accuracy_score(y_val, s.run(classes, {input_X: X_val_flat})))"
   ]
  },
  {
   "cell_type": "code",
   "execution_count": 14,
   "metadata": {},
   "outputs": [
    {
     "name": "stdout",
     "output_type": "stream",
     "text": [
      "Submitted to Coursera platform. See results on assignment page!\n"
     ]
    }
   ],
   "source": [
    "# you can make submission with answers so far to check yourself at this stage\n",
    "grader.submit(COURSERA_EMAIL, COURSERA_TOKEN)"
   ]
  },
  {
   "cell_type": "markdown",
   "metadata": {},
   "source": [
    "# MLP with hidden layers"
   ]
  },
  {
   "cell_type": "markdown",
   "metadata": {},
   "source": [
    "Previously we've coded a dense layer with matrix multiplication by hand. \n",
    "But this is not convenient, you have to create a lot of variables and your code becomes a mess. \n",
    "In TensorFlow there's an easier way to make a dense layer:\n",
    "```python\n",
    "hidden1 = tf.layers.dense(inputs, 256, activation=tf.nn.sigmoid)\n",
    "```\n",
    "\n",
    "That will create all the necessary variables automatically.\n",
    "Here you can also choose an activation function (remember that we need it for a hidden layer!).\n",
    "\n",
    "Now define the MLP with 2 hidden layers and restart training with the cell above.\n",
    "\n",
    "You're aiming for ~0.97 validation accuracy here."
   ]
  },
  {
   "cell_type": "code",
   "execution_count": 19,
   "metadata": {
    "collapsed": true
   },
   "outputs": [],
   "source": [
    "# write the code here to get a new `step` operation and then run the cell with training loop above.\n",
    "# name your variables in the same way (e.g. logits, probas, classes, etc) for safety.\n",
    "### YOUR CODE HERE ###\n",
    "\n",
    "s.run(tf.global_variables_initializer())\n",
    "\n",
    "hidden1 = tf.layers.dense(input_X, 256, activation = tf.nn.sigmoid)\n",
    "hidden2 = tf.layers.dense(hidden1, 256, activation = tf.nn.sigmoid)\n",
    "\n",
    "logits = tf.layers.dense(hidden2, 10, activation = tf.nn.sigmoid)\n",
    "probas = tf.nn.softmax(logits)\n",
    "classes = tf.argmax(probas, 1)\n",
    "\n",
    "loss = tf.reduce_mean(tf.nn.softmax_cross_entropy_with_logits(labels = input_y, logits = logits))\n",
    "\n",
    "step = tf.train.AdamOptimizer(0.01).minimize(loss)\n",
    "\n",
    "s.run(tf.global_variables_initializer())\n"
   ]
  },
  {
   "cell_type": "markdown",
   "metadata": {},
   "source": [
    "# Submit the MLP with 2 hidden layers\n",
    "Run these cells after training the MLP with 2 hidden layers"
   ]
  },
  {
   "cell_type": "code",
   "execution_count": 21,
   "metadata": {
    "collapsed": true
   },
   "outputs": [],
   "source": [
    "## GRADED PART, DO NOT CHANGE!\n",
    "# Validation loss for MLP\n",
    "grader.set_answer(\"i8bgs\", s.run(loss, {input_X: X_val_flat, input_y: y_val_oh}))\n",
    "# Validation accuracy for MLP\n",
    "grader.set_answer(\"rE763\", accuracy_score(y_val, s.run(classes, {input_X: X_val_flat})))"
   ]
  },
  {
   "cell_type": "code",
   "execution_count": 22,
   "metadata": {},
   "outputs": [
    {
     "name": "stdout",
     "output_type": "stream",
     "text": [
      "Submitted to Coursera platform. See results on assignment page!\n"
     ]
    }
   ],
   "source": [
    "# you can make submission with answers so far to check yourself at this stage\n",
    "grader.submit(COURSERA_EMAIL, COURSERA_TOKEN)"
   ]
  },
  {
   "cell_type": "code",
   "execution_count": null,
   "metadata": {
    "collapsed": true
   },
   "outputs": [],
   "source": []
  }
 ],
 "metadata": {
  "kernelspec": {
   "display_name": "Python 3",
   "language": "python",
   "name": "python3"
  },
  "language_info": {
   "codemirror_mode": {
    "name": "ipython",
    "version": 3
   },
   "file_extension": ".py",
   "mimetype": "text/x-python",
   "name": "python",
   "nbconvert_exporter": "python",
   "pygments_lexer": "ipython3",
   "version": "3.6.1"
  }
 },
 "nbformat": 4,
 "nbformat_minor": 1
}
