{
 "cells": [
  {
   "cell_type": "markdown",
   "metadata": {
    "slideshow": {
     "slide_type": "slide"
    }
   },
   "source": [
    "# MNIST digits classification with Keras\n",
    "\n",
    "We don't expect you to code anything here because you've already solved it with TensorFlow.\n",
    "\n",
    "But you can appreciate how simpler it is with Keras.\n",
    "\n",
    "We'll be happy if you play around with the architecture though, there're some tips at the end."
   ]
  },
  {
   "cell_type": "markdown",
   "metadata": {},
   "source": [
    "<img src=\"images/mnist_sample.png\" style=\"width:30%\">"
   ]
  },
  {
   "cell_type": "code",
   "execution_count": 1,
   "metadata": {},
   "outputs": [
    {
     "name": "stdout",
     "output_type": "stream",
     "text": [
      "We're using TF 1.2.1\n"
     ]
    },
    {
     "name": "stderr",
     "output_type": "stream",
     "text": [
      "Using TensorFlow backend.\n"
     ]
    },
    {
     "name": "stdout",
     "output_type": "stream",
     "text": [
      "We are using Keras 2.0.6\n"
     ]
    }
   ],
   "source": [
    "import numpy as np\n",
    "from sklearn.metrics import accuracy_score\n",
    "from matplotlib import pyplot as plt\n",
    "%matplotlib inline\n",
    "import tensorflow as tf\n",
    "print(\"We're using TF\", tf.__version__)\n",
    "import keras\n",
    "print(\"We are using Keras\", keras.__version__)\n",
    "\n",
    "import sys\n",
    "sys.path.append(\"../..\")\n",
    "import keras_utils\n",
    "from keras_utils import reset_tf_session"
   ]
  },
  {
   "cell_type": "markdown",
   "metadata": {},
   "source": [
    "# Look at the data\n",
    "\n",
    "In this task we have 50000 28x28 images of digits from 0 to 9.\n",
    "We will train a classifier on this data."
   ]
  },
  {
   "cell_type": "code",
   "execution_count": 2,
   "metadata": {
    "collapsed": true
   },
   "outputs": [],
   "source": [
    "import preprocessed_mnist\n",
    "X_train, y_train, X_val, y_val, X_test, y_test = preprocessed_mnist.load_dataset()"
   ]
  },
  {
   "cell_type": "code",
   "execution_count": 3,
   "metadata": {},
   "outputs": [
    {
     "name": "stdout",
     "output_type": "stream",
     "text": [
      "X_train [shape (50000, 28, 28)] sample patch:\n",
      " [[ 0.          0.29803922  0.96470588  0.98823529  0.43921569]\n",
      " [ 0.          0.33333333  0.98823529  0.90196078  0.09803922]\n",
      " [ 0.          0.33333333  0.98823529  0.8745098   0.        ]\n",
      " [ 0.          0.33333333  0.98823529  0.56862745  0.        ]\n",
      " [ 0.          0.3372549   0.99215686  0.88235294  0.        ]]\n",
      "A closeup of a sample patch:\n"
     ]
    },
    {
     "data": {
      "image/png": "[encoded data removed]",
      "text/plain": [
       "<matplotlib.figure.Figure at 0x7f03cd91f630>"
      ]
     },
     "metadata": {},
     "output_type": "display_data"
    },
    {
     "name": "stdout",
     "output_type": "stream",
     "text": [
      "And the whole sample:\n"
     ]
    },
    {
     "data": {
      "image/png": "[encoded data removed]",
      "text/plain": [
       "<matplotlib.figure.Figure at 0x7f03b61a2ef0>"
      ]
     },
     "metadata": {},
     "output_type": "display_data"
    },
    {
     "name": "stdout",
     "output_type": "stream",
     "text": [
      "y_train [shape (50000,)] 10 samples:\n",
      " [5 0 4 1 9 2 1 3 1 4]\n"
     ]
    }
   ],
   "source": [
    "# X contains rgb values divided by 255\n",
    "print(\"X_train [shape %s] sample patch:\\n\" % (str(X_train.shape)), X_train[1, 15:20, 5:10])\n",
    "print(\"A closeup of a sample patch:\")\n",
    "plt.imshow(X_train[1, 15:20, 5:10], cmap=\"Greys\")\n",
    "plt.show()\n",
    "print(\"And the whole sample:\")\n",
    "plt.imshow(X_train[1], cmap=\"Greys\")\n",
    "plt.show()\n",
    "print(\"y_train [shape %s] 10 samples:\\n\" % (str(y_train.shape)), y_train[:10])"
   ]
  },
  {
   "cell_type": "code",
   "execution_count": 4,
   "metadata": {},
   "outputs": [
    {
     "name": "stdout",
     "output_type": "stream",
     "text": [
      "(50000, 784)\n",
      "(10000, 784)\n"
     ]
    }
   ],
   "source": [
    "# flatten images\n",
    "X_train_flat = X_train.reshape((X_train.shape[0], -1))\n",
    "print(X_train_flat.shape)\n",
    "\n",
    "X_val_flat = X_val.reshape((X_val.shape[0], -1))\n",
    "print(X_val_flat.shape)"
   ]
  },
  {
   "cell_type": "code",
   "execution_count": 5,
   "metadata": {},
   "outputs": [
    {
     "name": "stdout",
     "output_type": "stream",
     "text": [
      "(50000, 10)\n",
      "[[ 0.  0.  0.  0.  0.  1.  0.  0.  0.  0.]\n",
      " [ 1.  0.  0.  0.  0.  0.  0.  0.  0.  0.]\n",
      " [ 0.  0.  0.  0.  1.  0.  0.  0.  0.  0.]] [5 0 4]\n"
     ]
    }
   ],
   "source": [
    "# one-hot encode the target\n",
    "y_train_oh = keras.utils.to_categorical(y_train, 10)\n",
    "y_val_oh = keras.utils.to_categorical(y_val, 10)\n",
    "\n",
    "print(y_train_oh.shape)\n",
    "print(y_train_oh[:3], y_train[:3])"
   ]
  },
  {
   "cell_type": "code",
   "execution_count": 6,
   "metadata": {
    "collapsed": true
   },
   "outputs": [],
   "source": [
    "# building a model with keras\n",
    "from keras.layers import Dense, Activation\n",
    "from keras.models import Sequential\n",
    "\n",
    "# we still need to clear a graph though\n",
    "s = reset_tf_session()\n",
    "\n",
    "model = Sequential()  # it is a feed-forward network without loops like in RNN\n",
    "model.add(Dense(256, input_shape=(784,)))  # the first layer must specify the input shape (replacing placeholders)\n",
    "model.add(Activation('sigmoid'))\n",
    "model.add(Dense(256))\n",
    "model.add(Activation('sigmoid'))\n",
    "model.add(Dense(10))\n",
    "model.add(Activation('softmax'))"
   ]
  },
  {
   "cell_type": "code",
   "execution_count": 7,
   "metadata": {},
   "outputs": [
    {
     "name": "stdout",
     "output_type": "stream",
     "text": [
      "_________________________________________________________________\n",
      "Layer (type)                 Output Shape              Param #   \n",
      "=================================================================\n",
      "dense_1 (Dense)              (None, 256)               200960    \n",
      "_________________________________________________________________\n",
      "activation_1 (Activation)    (None, 256)               0         \n",
      "_________________________________________________________________\n",
      "dense_2 (Dense)              (None, 256)               65792     \n",
      "_________________________________________________________________\n",
      "activation_2 (Activation)    (None, 256)               0         \n",
      "_________________________________________________________________\n",
      "dense_3 (Dense)              (None, 10)                2570      \n",
      "_________________________________________________________________\n",
      "activation_3 (Activation)    (None, 10)                0         \n",
      "=================================================================\n",
      "Total params: 269,322\n",
      "Trainable params: 269,322\n",
      "Non-trainable params: 0\n",
      "_________________________________________________________________\n"
     ]
    }
   ],
   "source": [
    "# you can look at all layers and parameter count\n",
    "model.summary()"
   ]
  },
  {
   "cell_type": "code",
   "execution_count": 8,
   "metadata": {
    "collapsed": true
   },
   "outputs": [],
   "source": [
    "# now we \"compile\" the model specifying the loss and optimizer\n",
    "model.compile(\n",
    "    loss='categorical_crossentropy', # this is our cross-entropy\n",
    "    optimizer='adam',\n",
    "    metrics=['accuracy']  # report accuracy during training\n",
    ")"
   ]
  },
  {
   "cell_type": "code",
   "execution_count": 9,
   "metadata": {},
   "outputs": [
    {
     "name": "stdout",
     "output_type": "stream",
     "text": [
      "\n",
      "Epoch 1/40\n",
      "\n",
      "\n",
      "Epoch 2/40\n",
      "\n",
      "\n",
      "Epoch 3/40\n",
      "\n",
      "\n",
      "Epoch 4/40\n",
      "\n",
      "\n",
      "Epoch 5/40\n",
      "\n",
      "\n",
      "Epoch 6/40\n",
      "\n",
      "\n",
      "Epoch 7/40\n",
      "\n",
      "\n",
      "Epoch 8/40\n",
      "\n",
      "\n",
      "Epoch 9/40\n",
      "\n",
      "\n",
      "Epoch 10/40\n",
      "\n",
      "\n",
      "Epoch 11/40\n",
      "\n",
      "\n",
      "Epoch 12/40\n",
      "\n",
      "\n",
      "Epoch 13/40\n",
      "\n",
      "\n",
      "Epoch 14/40\n",
      "\n",
      "\n",
      "Epoch 15/40\n",
      "\n",
      "\n",
      "Epoch 16/40\n",
      "\n",
      "\n",
      "Epoch 17/40\n",
      "\n",
      "\n",
      "Epoch 18/40\n",
      "\n",
      "\n",
      "Epoch 19/40\n",
      "\n",
      "\n",
      "Epoch 20/40\n",
      "\n",
      "\n",
      "Epoch 21/40\n",
      "\n",
      "\n",
      "Epoch 22/40\n",
      "\n",
      "\n",
      "Epoch 23/40\n",
      "\n",
      "\n",
      "Epoch 24/40\n",
      "\n",
      "\n",
      "Epoch 25/40\n",
      "\n",
      "\n",
      "Epoch 26/40\n",
      "\n",
      "\n",
      "Epoch 27/40\n",
      "\n",
      "\n",
      "Epoch 28/40\n",
      "\n",
      "\n",
      "Epoch 29/40\n",
      "\n",
      "\n",
      "Epoch 30/40\n",
      "\n",
      "\n",
      "Epoch 31/40\n",
      "\n",
      "\n",
      "Epoch 32/40\n",
      "\n",
      "\n",
      "Epoch 33/40\n",
      "\n",
      "\n",
      "Epoch 34/40\n",
      "\n",
      "\n",
      "Epoch 35/40\n",
      "\n",
      "\n",
      "Epoch 36/40\n",
      "\n",
      "\n",
      "Epoch 37/40\n",
      "\n",
      "\n",
      "Epoch 38/40\n",
      "\n",
      "\n",
      "Epoch 39/40\n",
      "\n",
      "\n",
      "Epoch 40/40\n",
      "\n"
     ]
    },
    {
     "data": {
      "text/plain": [
       "<keras.callbacks.History at 0x7f03b611a470>"
      ]
     },
     "execution_count": 9,
     "metadata": {},
     "output_type": "execute_result"
    }
   ],
   "source": [
    "# and now we can fit the model with model.fit()\n",
    "# and we don't have to write loops and batching manually as in TensorFlow\n",
    "model.fit(\n",
    "    X_train_flat, \n",
    "    y_train_oh,\n",
    "    batch_size=512, \n",
    "    epochs=40,\n",
    "    validation_data=(X_val_flat, y_val_oh),\n",
    "    callbacks=[keras_utils.TqdmProgressCallback()],\n",
    "    verbose=0\n",
    ")"
   ]
  },
  {
   "cell_type": "markdown",
   "metadata": {},
   "source": [
    "# Here're the notes for those who want to play around here\n",
    "\n",
    "Here are some tips on what you could do:\n",
    "\n",
    " * __Network size__\n",
    "   * More neurons, \n",
    "   * More layers, ([docs](https://keras.io/))\n",
    "\n",
    "   * Other nonlinearities in the hidden layers\n",
    "     * tanh, relu, leaky relu, etc\n",
    "   * Larger networks may take more epochs to train, so don't discard your net just because it could didn't beat the baseline in 5 epochs.\n",
    "\n",
    "\n",
    " * __Early Stopping__\n",
    "   * Training for 100 epochs regardless of anything is probably a bad idea.\n",
    "   * Some networks converge over 5 epochs, others - over 500.\n",
    "   * Way to go: stop when validation score is 10 iterations past maximum\n",
    "     \n",
    "\n",
    " * __Faster optimization__\n",
    "   * rmsprop, nesterov_momentum, adam, adagrad and so on.\n",
    "     * Converge faster and sometimes reach better optima\n",
    "     * It might make sense to tweak learning rate/momentum, other learning parameters, batch size and number of epochs\n",
    "\n",
    "\n",
    " * __Regularize__ to prevent overfitting\n",
    "   * Add some L2 weight norm to the loss function, theano will do the rest\n",
    "     * Can be done manually or via - https://keras.io/regularizers/\n",
    "   \n",
    "   \n",
    " * __Data augmemntation__ - getting 5x as large dataset for free is a great deal\n",
    "   * https://keras.io/preprocessing/image/\n",
    "   * Zoom-in+slice = move\n",
    "   * Rotate+zoom(to remove black stripes)\n",
    "   * any other perturbations\n",
    "   * Simple way to do that (if you have PIL/Image): \n",
    "     * ```from scipy.misc import imrotate,imresize```\n",
    "     * and a few slicing\n",
    "   * Stay realistic. There's usually no point in flipping dogs upside down as that is not the way you usually see them."
   ]
  },
  {
   "cell_type": "code",
   "execution_count": null,
   "metadata": {
    "collapsed": true
   },
   "outputs": [],
   "source": []
  }
 ],
 "metadata": {
  "kernelspec": {
   "display_name": "Python 3",
   "language": "python",
   "name": "python3"
  },
  "language_info": {
   "codemirror_mode": {
    "name": "ipython",
    "version": 3
   },
   "file_extension": ".py",
   "mimetype": "text/x-python",
   "name": "python",
   "nbconvert_exporter": "python",
   "pygments_lexer": "ipython3",
   "version": "3.6.0"
  },
  "widgets": {
   "state": {
    "057fbca803ba4eeb8a5cc24540b7be5e": {
     "views": [
      {
       "cell_index": 11
      }
     ]
    },
    "0695d4d2210e4f0b8f278b314dd503fd": {
     "views": [
      {
       "cell_index": 11
      }
     ]
    },
    "0bd9f7afe73942eb87ec585170f5da17": {
     "views": [
      {
       "cell_index": 11
      }
     ]
    },
    "10bf34fa0dbc4261a580a7a9b25abc73": {
     "views": [
      {
       "cell_index": 11
      }
     ]
    },
    "16fd8c23adb24785bbec42f365b49275": {
     "views": [
      {
       "cell_index": 11
      }
     ]
    },
    "2b89c0c7e5424f9f9fa9b8bb4438f30a": {
     "views": [
      {
       "cell_index": 11
      }
     ]
    },
    "2eb76bf8a1764fddbbbfc8268c6646d6": {
     "views": [
      {
       "cell_index": 11
      }
     ]
    },
    "36d604b6410f4e0582c5a0666f060a1b": {
     "views": [
      {
       "cell_index": 11
      }
     ]
    },
    "38a1ebc885c94d4695dcb31432338b5d": {
     "views": [
      {
       "cell_index": 11
      }
     ]
    },
    "3e3f2f79d9de485e8b911388d08a6716": {
     "views": [
      {
       "cell_index": 11
      }
     ]
    },
    "43825fe860534604a23a9c4db4d31d6c": {
     "views": [
      {
       "cell_index": 11
      }
     ]
    },
    "45b1dcef30d24be1aabab36d647aa4e9": {
     "views": [
      {
       "cell_index": 11
      }
     ]
    },
    "5b618e0dfc3e40ea8aa140d20ecf4d89": {
     "views": [
      {
       "cell_index": 11
      }
     ]
    },
    "68faef3a286e4a9c819b6f180a8e6ee3": {
     "views": [
      {
       "cell_index": 11
      }
     ]
    },
    "6c574c0045cf424885beca0ee59233ae": {
     "views": [
      {
       "cell_index": 11
      }
     ]
    },
    "7496ae4837664f7285d34d4bdccb3887": {
     "views": [
      {
       "cell_index": 11
      }
     ]
    },
    "802e6bc12db54ea0b99254d3d8138336": {
     "views": [
      {
       "cell_index": 11
      }
     ]
    },
    "8624806e1ed2405f8a55fecf9f4d415e": {
     "views": [
      {
       "cell_index": 11
      }
     ]
    },
    "888a5acf980b435ea0a0005f0af5f1b7": {
     "views": [
      {
       "cell_index": 11
      }
     ]
    },
    "89c94a5b035248aa840f5eef88cb0782": {
     "views": [
      {
       "cell_index": 11
      }
     ]
    },
    "8f8157b9632c45b78b58a79856c94eee": {
     "views": [
      {
       "cell_index": 11
      }
     ]
    },
    "940bb8f138c84d538814083e2d4bd920": {
     "views": [
      {
       "cell_index": 11
      }
     ]
    },
    "972a1c0e9ec042f6969c390f6fae965c": {
     "views": [
      {
       "cell_index": 11
      }
     ]
    },
    "986c7b0ee9274d14bcdde9bac7541dd0": {
     "views": [
      {
       "cell_index": 11
      }
     ]
    },
    "9c40a62eda7440618ae84d2ccd97bee0": {
     "views": [
      {
       "cell_index": 11
      }
     ]
    },
    "9f278b8051b4486e9cd4e09ed92c41bd": {
     "views": [
      {
       "cell_index": 11
      }
     ]
    },
    "a4e5c5f7af91412c853a4ebec6b1d7ec": {
     "views": [
      {
       "cell_index": 11
      }
     ]
    },
    "a576d67392654f5e835f8617c3c6b2af": {
     "views": [
      {
       "cell_index": 11
      }
     ]
    },
    "ad01c76a434148938b97e3cafd17295c": {
     "views": [
      {
       "cell_index": 11
      }
     ]
    },
    "ad99074511c4411eb6abdecbee9ebf52": {
     "views": [
      {
       "cell_index": 11
      }
     ]
    },
    "af1c32944f40445abe68c41d3659e483": {
     "views": [
      {
       "cell_index": 11
      }
     ]
    },
    "b31492444ede4e40ac1df1b2132dd0e2": {
     "views": [
      {
       "cell_index": 11
      }
     ]
    },
    "b66b38a8c9eb4a97a7a11bd74f2b357f": {
     "views": [
      {
       "cell_index": 11
      }
     ]
    },
    "c34a1883f73348eea3969af8e1ec2ced": {
     "views": [
      {
       "cell_index": 11
      }
     ]
    },
    "c595935401054f22b403db2eb22bc4d7": {
     "views": [
      {
       "cell_index": 11
      }
     ]
    },
    "cc5caf3200214d1facbede4ec820311c": {
     "views": [
      {
       "cell_index": 11
      }
     ]
    },
    "d462943a514841c7ad6b3fd46a8dcfd0": {
     "views": [
      {
       "cell_index": 11
      }
     ]
    },
    "d9edcc95cd884642870623fed747c69f": {
     "views": [
      {
       "cell_index": 11
      }
     ]
    },
    "e700b2f1b0e643928ff10908edfb3b60": {
     "views": [
      {
       "cell_index": 11
      }
     ]
    },
    "fe7c6616691647e08d9db1d009f6f796": {
     "views": [
      {
       "cell_index": 11
      }
     ]
    }
   },
   "version": "1.2.0"
  }
 },
 "nbformat": 4,
 "nbformat_minor": 1
}
